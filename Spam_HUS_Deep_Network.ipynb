{
  "cells": [
    {
      "cell_type": "code",
      "execution_count": null,
      "metadata": {
        "colab": {
          "base_uri": "https://localhost:8080/"
        },
        "id": "jL5hGuy-Vimr",
        "outputId": "693c4a63-45ae-4d63-f559-aa6422c55383"
      },
      "outputs": [
        {
          "name": "stdout",
          "output_type": "stream",
          "text": [
            "Collecting pyvi\n",
            "  Downloading pyvi-0.1.1-py2.py3-none-any.whl (8.5 MB)\n",
            "\u001b[2K     \u001b[90m━━━━━━━━━━━━━━━━━━━━━━━━━━━━━━━━━━━━━━━━\u001b[0m \u001b[32m8.5/8.5 MB\u001b[0m \u001b[31m26.8 MB/s\u001b[0m eta \u001b[36m0:00:00\u001b[0m\n",
            "\u001b[?25hRequirement already satisfied: scikit-learn in /usr/local/lib/python3.10/dist-packages (from pyvi) (1.2.2)\n",
            "Collecting sklearn-crfsuite (from pyvi)\n",
            "  Downloading sklearn_crfsuite-0.3.6-py2.py3-none-any.whl (12 kB)\n",
            "Requirement already satisfied: numpy>=1.17.3 in /usr/local/lib/python3.10/dist-packages (from scikit-learn->pyvi) (1.23.5)\n",
            "Requirement already satisfied: scipy>=1.3.2 in /usr/local/lib/python3.10/dist-packages (from scikit-learn->pyvi) (1.11.4)\n",
            "Requirement already satisfied: joblib>=1.1.1 in /usr/local/lib/python3.10/dist-packages (from scikit-learn->pyvi) (1.3.2)\n",
            "Requirement already satisfied: threadpoolctl>=2.0.0 in /usr/local/lib/python3.10/dist-packages (from scikit-learn->pyvi) (3.2.0)\n",
            "Collecting python-crfsuite>=0.8.3 (from sklearn-crfsuite->pyvi)\n",
            "  Downloading python_crfsuite-0.9.9-cp310-cp310-manylinux_2_17_x86_64.manylinux2014_x86_64.whl (993 kB)\n",
            "\u001b[2K     \u001b[90m━━━━━━━━━━━━━━━━━━━━━━━━━━━━━━━━━━━━━━━━\u001b[0m \u001b[32m993.5/993.5 kB\u001b[0m \u001b[31m33.6 MB/s\u001b[0m eta \u001b[36m0:00:00\u001b[0m\n",
            "\u001b[?25hRequirement already satisfied: six in /usr/local/lib/python3.10/dist-packages (from sklearn-crfsuite->pyvi) (1.16.0)\n",
            "Requirement already satisfied: tabulate in /usr/local/lib/python3.10/dist-packages (from sklearn-crfsuite->pyvi) (0.9.0)\n",
            "Requirement already satisfied: tqdm>=2.0 in /usr/local/lib/python3.10/dist-packages (from sklearn-crfsuite->pyvi) (4.66.1)\n",
            "Installing collected packages: python-crfsuite, sklearn-crfsuite, pyvi\n",
            "Successfully installed python-crfsuite-0.9.9 pyvi-0.1.1 sklearn-crfsuite-0.3.6\n"
          ]
        }
      ],
      "source": [
        "!pip install pyvi"
      ]
    },
    {
      "cell_type": "code",
      "execution_count": null,
      "metadata": {
        "id": "wU5vEs0uVz7C"
      },
      "outputs": [],
      "source": [
        "from google.colab import drive\n",
        "import os\n",
        "import re\n",
        "import pickle\n",
        "import pandas as pd\n",
        "import numpy as np\n",
        "import seaborn as sn\n",
        "import matplotlib.pyplot as plt\n",
        "from pyvi.ViTokenizer import ViTokenizer\n",
        "from keras.preprocessing import text, sequence\n",
        "from tensorflow.keras.utils import to_categorical\n",
        "from keras.layers import Input, Dense, Embedding, Conv2D, MaxPool2D, MaxPool1D, Bidirectional, LSTM, GRU, concatenate, GlobalMaxPooling1D, GlobalAveragePooling1D, SpatialDropout1D\n",
        "from keras.layers import Reshape, Flatten, Dropout, Concatenate\n",
        "from keras.callbacks import ModelCheckpoint\n",
        "from tensorflow.keras.optimizers import Adam\n",
        "from keras.models import Model\n",
        "from tensorflow.keras.utils import to_categorical\n",
        "from keras.preprocessing import text, sequence\n",
        "from keras import backend as K\n",
        "from sklearn.metrics import f1_score, confusion_matrix, accuracy_score\n",
        "from sklearn.model_selection import train_test_split, StratifiedShuffleSplit"
      ]
    },
    {
      "cell_type": "code",
      "execution_count": null,
      "metadata": {
        "colab": {
          "base_uri": "https://localhost:8080/"
        },
        "id": "ZnynAr5KV2j1",
        "outputId": "352e0768-9eb1-4e08-ee83-3d745b82c35c"
      },
      "outputs": [
        {
          "name": "stdout",
          "output_type": "stream",
          "text": [
            "Mounted at /content/gdrive\n"
          ]
        }
      ],
      "source": [
        "\n",
        "from google.colab import drive\n",
        "drive.mount(\"/content/gdrive\")\n"
      ]
    },
    {
      "cell_type": "code",
      "execution_count": null,
      "metadata": {
        "id": "wyOsIPgBV38Z"
      },
      "outputs": [],
      "source": [
        "DIR_ROOT = '/content/gdrive/MyDrive/NLP/'\n",
        "DIR_DATASET = os.path.join(DIR_ROOT, 'dataset')\n",
        "\n",
        "PATH_TRAIN = os.path.join(DIR_DATASET, 'train.csv')\n",
        "PATH_DEV = os.path.join(DIR_DATASET, 'dev.csv')\n",
        "PATH_TEST = os.path.join(DIR_DATASET, 'test.csv')\n",
        "\n",
        "STOPWORDS_PATH = os.path.join(DIR_ROOT, 'vietnamese-stopwords-dash.txt')\n",
        "EMBEDDING_PATH = os.path.join(DIR_ROOT, 'cc.vi.300.vec')\n",
        "TOKENIZER_PATH = os.path.join(DIR_ROOT, 'tokenizer.pickle')\n",
        "# https://fasttext.cc/docs/en/crawl-vectors.html\n",
        "MODEL_DIR = os.path.join(DIR_ROOT, 'model')\n",
        "if not os.path.exists(MODEL_DIR):\n",
        "    os.makedirs(MODEL_DIR)"
      ]
    },
    {
      "cell_type": "code",
      "execution_count": null,
      "metadata": {
        "colab": {
          "base_uri": "https://localhost:8080/"
        },
        "id": "6ydJoZ7u_Bp0",
        "outputId": "5331540e-7bff-4fa6-d0d8-de6edfd01e5e"
      },
      "outputs": [
        {
          "name": "stdout",
          "output_type": "stream",
          "text": [
            "The 'dataset' folder exists in the specified directory.\n"
          ]
        }
      ],
      "source": [
        "if os.path.exists(DIR_DATASET):\n",
        "    print(f\"The 'dataset' folder exists in the specified directory.\")\n",
        "else:\n",
        "    print(f\"The 'dataset' folder does not exist in the specified directory.\")"
      ]
    },
    {
      "cell_type": "code",
      "execution_count": null,
      "metadata": {
        "colab": {
          "base_uri": "https://localhost:8080/"
        },
        "id": "l8Vx-WYG_Op6",
        "outputId": "5cd5e2d3-bd9c-4c0f-c322-8c6fd7288765"
      },
      "outputs": [
        {
          "name": "stdout",
          "output_type": "stream",
          "text": [
            "The file 'vietnamese-stopwords-dash.txt' exists at /content/gdrive/MyDrive/NLP/vietnamese-stopwords-dash.txt.\n",
            "The file 'cc.vi.300.vec' exists at /content/gdrive/MyDrive/NLP/cc.vi.300.vec.\n",
            "The file 'tokenizer.pickle' exists at /content/gdrive/MyDrive/NLP/tokenizer.pickle.\n"
          ]
        }
      ],
      "source": [
        "# Check if the files exist\n",
        "if os.path.exists(STOPWORDS_PATH):\n",
        "    print(f\"The file 'vietnamese-stopwords-dash.txt' exists at {STOPWORDS_PATH}.\")\n",
        "else:\n",
        "    print(f\"The file 'vietnamese-stopwords-dash.txt' does not exist at {STOPWORDS_PATH}.\")\n",
        "\n",
        "if os.path.exists(EMBEDDING_PATH):\n",
        "    print(f\"The file 'cc.vi.300.vec' exists at {EMBEDDING_PATH}.\")\n",
        "else:\n",
        "    print(f\"The file 'cc.vi.300.vec' does not exist at {EMBEDDING_PATH}.\")\n",
        "\n",
        "if os.path.exists(TOKENIZER_PATH):\n",
        "    print(f\"The file 'tokenizer.pickle' exists at {TOKENIZER_PATH}.\")\n",
        "else:\n",
        "    print(f\"The file 'tokenizer.pickle' does not exist at {TOKENIZER_PATH}.\")"
      ]
    },
    {
      "cell_type": "code",
      "execution_count": null,
      "metadata": {
        "id": "dRL1krYRV6cx"
      },
      "outputs": [],
      "source": [
        "def show_predict_result(model, X_test, y_test, labels):\n",
        "    prediction = model.predict(X_test, batch_size=256, verbose=0)\n",
        "    y_pred = prediction.argmax(axis=-1)\n",
        "    cf = confusion_matrix(y_test, y_pred)\n",
        "    df_cm = pd.DataFrame(cf, index = labels , columns = labels)\n",
        "    sn.heatmap(df_cm, annot=True, cmap=\"Greys\",fmt='g', cbar=True, annot_kws={\"size\": 30})\n",
        "    print(\"F1 - micro:\", f1_score(y_test, y_pred, average='micro'))\n",
        "    print(\"F1 - macro:\", f1_score(y_test, y_pred, average='macro'))\n",
        "    print(\"Accuracy:\", accuracy_score(y_test, y_pred))"
      ]
    },
    {
      "cell_type": "code",
      "execution_count": null,
      "metadata": {
        "id": "oVNaTgszV8c-"
      },
      "outputs": [],
      "source": [
        "data_train = pd.read_csv(PATH_TRAIN)\n",
        "X_train = data_train.iloc[:, 0:2]\n",
        "y_train = data_train.iloc[:, 2:4]\n",
        "\n",
        "data_dev = pd.read_csv(PATH_DEV)\n",
        "X_dev = data_dev.iloc[:, 0:2]\n",
        "y_dev = data_dev.iloc[:, 2:4]\n",
        "\n",
        "\n",
        "data_test = pd.read_csv(PATH_TEST)\n",
        "X_test = data_test.iloc[:, 0:2]\n",
        "y_test = data_test.iloc[:, 2:4]"
      ]
    },
    {
      "cell_type": "code",
      "execution_count": null,
      "metadata": {
        "id": "MyHvz88zV_Bn"
      },
      "outputs": [],
      "source": [
        "with open(STOPWORDS_PATH, \"r\") as ins:\n",
        "    stopwords = []\n",
        "    for line in ins:\n",
        "        dd = line.strip('\\n')\n",
        "        stopwords.append(dd)\n",
        "    stopwords = set(stopwords)"
      ]
    },
    {
      "cell_type": "code",
      "execution_count": null,
      "metadata": {
        "id": "WUDw8QJ4WBfE"
      },
      "outputs": [],
      "source": [
        "def filter_stop_words(train_sentences, stop_words):\n",
        "    new_sent = [word for word in train_sentences.split() if word not in stop_words]\n",
        "    train_sentences = ' '.join(new_sent)\n",
        "    return train_sentences\n",
        "\n",
        "\n",
        "def deEmojify(text):\n",
        "    regrex_pattern = re.compile(pattern = \"[\"\n",
        "        u\"\\U0001F600-\\U0001F64F\"  # emoticons\n",
        "        u\"\\U0001F300-\\U0001F5FF\"  # symbols & pictographs\n",
        "        u\"\\U0001F680-\\U0001F6FF\"  # transport & map symbols\n",
        "        u\"\\U0001F1E0-\\U0001F1FF\"  # flags (iOS)\n",
        "                           \"]+\", flags = re.UNICODE)\n",
        "    return regrex_pattern.sub(r'',text)\n",
        "\n",
        "\n",
        "def preprocess(text, tokenized = True, lowercased = True):\n",
        "    text = ViTokenizer.tokenize(text) if tokenized else text\n",
        "    text = filter_stop_words(text, stopwords)\n",
        "    text = deEmojify(text)\n",
        "    text = text.lower() if lowercased else text\n",
        "    return text\n",
        "\n",
        "\n",
        "def pre_process_features(X, y1, y2, tokenized = True, lowercased = True):\n",
        "    X = np.array(X)\n",
        "    y1 = np.array(y1)\n",
        "    y2 = np.array(y2)\n",
        "    X = [preprocess(str(p), tokenized = tokenized, lowercased = lowercased) for p in list(X)]\n",
        "    for idx, ele in enumerate(X):\n",
        "        if not ele:\n",
        "            X = np.delete(X, idx)\n",
        "            y1 = np.delete(y1, idx)\n",
        "            y2 = np.delete(y2, idx)\n",
        "    return X, y1, y2\n",
        "\n",
        "\n",
        "def make_featues(X, y1, y2, tokenizer, is_one_hot_label=True, number_class1=2, number_class2=4):\n",
        "    X = tokenizer.texts_to_sequences(X)\n",
        "    X = sequence.pad_sequences(X, maxlen=sequence_length)\n",
        "    if is_one_hot_label:\n",
        "        y1 = to_categorical(y1, num_classes=number_class1)\n",
        "        y2 = to_categorical(y2, num_classes=number_class2)\n",
        "\n",
        "    return X, y1, y2"
      ]
    },
    {
      "cell_type": "code",
      "execution_count": null,
      "metadata": {
        "id": "EQjZDRfYWD9M"
      },
      "outputs": [],
      "source": [
        "train_X, train_y, train_y_spam = pre_process_features(X_train['Comment'], y_train['Label'], y_train['SpamLabel'], tokenized=True, lowercased = False)\n",
        "dev_X, dev_y, dev_y_spam = pre_process_features(X_dev['Comment'], y_dev['Label'], y_dev['SpamLabel'], tokenized=True, lowercased = False)\n",
        "test_X, test_y, test_y_spam = pre_process_features(X_test['Comment'], y_test['Label'], y_test['SpamLabel'], tokenized=True, lowercased = False)"
      ]
    },
    {
      "cell_type": "code",
      "execution_count": null,
      "metadata": {
        "id": "_70fjHrbWHsx"
      },
      "outputs": [],
      "source": [
        "\n",
        "embeddings_index = {}\n",
        "with open(EMBEDDING_PATH, encoding='utf8') as f:\n",
        "    for line in f:\n",
        "        values = line.rstrip().rsplit(' ')\n",
        "        word = values[0]\n",
        "        coefs = np.asarray(values[1:], dtype='float32')\n",
        "        embeddings_index[word] = coefs"
      ]
    },
    {
      "cell_type": "code",
      "execution_count": null,
      "metadata": {
        "id": "mhAP_h0JWKNY"
      },
      "outputs": [],
      "source": [
        "tokenizer = text.Tokenizer(lower=False, filters='!\"#$%&()*+,-./:;<=>?@[\\]^`{|}~\\t\\n')\n",
        "tokenizer.fit_on_texts(train_X)\n",
        "with open(TOKENIZER_PATH, 'wb') as handle:\n",
        "    pickle.dump(tokenizer, handle, protocol=pickle.HIGHEST_PROTOCOL)"
      ]
    },
    {
      "cell_type": "code",
      "execution_count": null,
      "metadata": {
        "id": "G2fjly3hWPLo"
      },
      "outputs": [],
      "source": [
        "labels_task_1 = [\"no-spam\", \"spam\"]\n",
        "labels_task_2 = [\"no-spam\", \"spam-1\", \"spam-2\", \"spam-3\"]\n",
        "\n",
        "vocabulary_size = 10000\n",
        "sequence_length = 100\n",
        "\n",
        "embedding_dim = 300\n",
        "batch_size = 256\n",
        "epochs = 40\n",
        "drop = 0.5\n",
        "\n",
        "filter_sizes = [2,3,5]\n",
        "num_filters = 32\n",
        "\n",
        "word_index = tokenizer.word_index\n",
        "num_words = len(word_index) + 1\n",
        "embedding_matrix = np.zeros((num_words, embedding_dim))\n",
        "\n",
        "for word, i in word_index.items():\n",
        "    if i >= vocabulary_size:\n",
        "        continue\n",
        "\n",
        "    embedding_vector = embeddings_index.get(word)\n",
        "    if embedding_vector is not None:\n",
        "        embedding_matrix[i] = embedding_vector\n"
      ]
    },
    {
      "cell_type": "code",
      "execution_count": null,
      "metadata": {
        "id": "INDZ0TfMWQ_h"
      },
      "outputs": [],
      "source": [
        "\n",
        "train_X, train_y, train_y_spam = make_featues(train_X, train_y, train_y_spam, tokenizer)\n",
        "dev_X, dev_y, dev_y_spam = make_featues(dev_X, dev_y, dev_y_spam, tokenizer)\n",
        "test_X, test_y, test_y_spam = make_featues(test_X, test_y, test_y_spam, tokenizer, is_one_hot_label=False)"
      ]
    },
    {
      "cell_type": "markdown",
      "metadata": {},
      "source": [
        "Text CNN"
      ]
    },
    {
      "cell_type": "code",
      "execution_count": null,
      "metadata": {
        "colab": {
          "base_uri": "https://localhost:8080/"
        },
        "id": "8uWap_sdWS7r",
        "outputId": "04365e6f-c39d-4d92-f123-729d771a839f"
      },
      "outputs": [
        {
          "name": "stdout",
          "output_type": "stream",
          "text": [
            "Model: \"model\"\n",
            "__________________________________________________________________________________________________\n",
            " Layer (type)                Output Shape                 Param #   Connected to                  \n",
            "==================================================================================================\n",
            " input_1 (InputLayer)        [(None, 100)]                0         []                            \n",
            "                                                                                                  \n",
            " embedding (Embedding)       (None, 100, 300)             6033000   ['input_1[0][0]']             \n",
            "                                                                                                  \n",
            " reshape (Reshape)           (None, 100, 300, 1)          0         ['embedding[0][0]']           \n",
            "                                                                                                  \n",
            " conv2d (Conv2D)             (None, 99, 1, 32)            19232     ['reshape[0][0]']             \n",
            "                                                                                                  \n",
            " conv2d_1 (Conv2D)           (None, 98, 1, 32)            28832     ['reshape[0][0]']             \n",
            "                                                                                                  \n",
            " conv2d_2 (Conv2D)           (None, 96, 1, 32)            48032     ['reshape[0][0]']             \n",
            "                                                                                                  \n",
            " max_pooling2d (MaxPooling2  (None, 1, 1, 32)             0         ['conv2d[0][0]']              \n",
            " D)                                                                                               \n",
            "                                                                                                  \n",
            " max_pooling2d_1 (MaxPoolin  (None, 1, 1, 32)             0         ['conv2d_1[0][0]']            \n",
            " g2D)                                                                                             \n",
            "                                                                                                  \n",
            " max_pooling2d_2 (MaxPoolin  (None, 1, 1, 32)             0         ['conv2d_2[0][0]']            \n",
            " g2D)                                                                                             \n",
            "                                                                                                  \n",
            " concatenate (Concatenate)   (None, 3, 1, 32)             0         ['max_pooling2d[0][0]',       \n",
            "                                                                     'max_pooling2d_1[0][0]',     \n",
            "                                                                     'max_pooling2d_2[0][0]']     \n",
            "                                                                                                  \n",
            " flatten (Flatten)           (None, 96)                   0         ['concatenate[0][0]']         \n",
            "                                                                                                  \n",
            " dropout (Dropout)           (None, 96)                   0         ['flatten[0][0]']             \n",
            "                                                                                                  \n",
            " dense (Dense)               (None, 2)                    194       ['dropout[0][0]']             \n",
            "                                                                                                  \n",
            "==================================================================================================\n",
            "Total params: 6129290 (23.38 MB)\n",
            "Trainable params: 6129290 (23.38 MB)\n",
            "Non-trainable params: 0 (0.00 Byte)\n",
            "__________________________________________________________________________________________________\n"
          ]
        }
      ],
      "source": [
        "inputs = Input(shape=(sequence_length,), dtype='int32')\n",
        "embedding = Embedding(input_dim=num_words, output_dim=embedding_dim, input_length=sequence_length, weights=[embedding_matrix])(inputs)\n",
        "reshape = Reshape((sequence_length,embedding_dim,1))(embedding)\n",
        "\n",
        "conv_0 = Conv2D(num_filters, kernel_size=(filter_sizes[0], embedding_dim), padding='valid', kernel_initializer='normal', activation='elu')(reshape)\n",
        "conv_1 = Conv2D(num_filters, kernel_size=(filter_sizes[1], embedding_dim), padding='valid', kernel_initializer='normal', activation='elu')(reshape)\n",
        "conv_2 = Conv2D(num_filters, kernel_size=(filter_sizes[2], embedding_dim), padding='valid', kernel_initializer='normal', activation='elu')(reshape)\n",
        "\n",
        "maxpool_0 = MaxPool2D(pool_size=(sequence_length - filter_sizes[0] + 1, 1), strides=(1,1), padding='valid')(conv_0)\n",
        "maxpool_1 = MaxPool2D(pool_size=(sequence_length - filter_sizes[1] + 1, 1), strides=(1,1), padding='valid')(conv_1)\n",
        "maxpool_2 = MaxPool2D(pool_size=(sequence_length - filter_sizes[2] + 1, 1), strides=(1,1), padding='valid')(conv_2)\n",
        "\n",
        "concatenated_tensor = Concatenate(axis=1)([maxpool_0, maxpool_1, maxpool_2])\n",
        "flatten = Flatten()(concatenated_tensor)\n",
        "dropout = Dropout(drop)(flatten)\n",
        "output = Dense(units=2, activation='softmax')(dropout)\n",
        "\n",
        "model = Model(inputs=inputs, outputs=output)\n",
        "\n",
        "model.summary()"
      ]
    },
    {
      "cell_type": "code",
      "execution_count": null,
      "metadata": {
        "colab": {
          "base_uri": "https://localhost:8080/"
        },
        "id": "Gu_K3i1wPmFU",
        "outputId": "913ccbf5-9db7-4e30-cb78-3d84ee7df876"
      },
      "outputs": [
        {
          "name": "stdout",
          "output_type": "stream",
          "text": [
            "Epoch 1/40\n",
            "56/56 [==============================] - 27s 241ms/step - loss: 0.6559 - accuracy: 0.6238 - val_loss: 0.5696 - val_accuracy: 0.7319\n",
            "Epoch 2/40\n",
            "56/56 [==============================] - 10s 174ms/step - loss: 0.5465 - accuracy: 0.7473 - val_loss: 0.5279 - val_accuracy: 0.7306\n",
            "Epoch 3/40\n",
            "56/56 [==============================] - 7s 125ms/step - loss: 0.5180 - accuracy: 0.7459 - val_loss: 0.5127 - val_accuracy: 0.7319\n",
            "Epoch 4/40\n",
            "56/56 [==============================] - 8s 152ms/step - loss: 0.4997 - accuracy: 0.7595 - val_loss: 0.5011 - val_accuracy: 0.7407\n",
            "Epoch 5/40\n",
            "56/56 [==============================] - 4s 74ms/step - loss: 0.4871 - accuracy: 0.7889 - val_loss: 0.4907 - val_accuracy: 0.7709\n",
            "Epoch 6/40\n",
            "56/56 [==============================] - 6s 103ms/step - loss: 0.4744 - accuracy: 0.7997 - val_loss: 0.4814 - val_accuracy: 0.7804\n",
            "Epoch 7/40\n",
            "56/56 [==============================] - 5s 90ms/step - loss: 0.4625 - accuracy: 0.8061 - val_loss: 0.4723 - val_accuracy: 0.7860\n",
            "Epoch 8/40\n",
            "56/56 [==============================] - 4s 79ms/step - loss: 0.4514 - accuracy: 0.8118 - val_loss: 0.4638 - val_accuracy: 0.7898\n",
            "Epoch 9/40\n",
            "56/56 [==============================] - 2s 43ms/step - loss: 0.4380 - accuracy: 0.8168 - val_loss: 0.4563 - val_accuracy: 0.7974\n",
            "Epoch 10/40\n",
            "56/56 [==============================] - 4s 69ms/step - loss: 0.4281 - accuracy: 0.8200 - val_loss: 0.4487 - val_accuracy: 0.8005\n",
            "Epoch 11/40\n",
            "56/56 [==============================] - 4s 78ms/step - loss: 0.4158 - accuracy: 0.8263 - val_loss: 0.4414 - val_accuracy: 0.8093\n",
            "Epoch 12/40\n",
            "56/56 [==============================] - 3s 61ms/step - loss: 0.4052 - accuracy: 0.8310 - val_loss: 0.4349 - val_accuracy: 0.8137\n",
            "Epoch 13/40\n",
            "56/56 [==============================] - 2s 44ms/step - loss: 0.3918 - accuracy: 0.8375 - val_loss: 0.4293 - val_accuracy: 0.8156\n",
            "Epoch 14/40\n",
            "56/56 [==============================] - 3s 47ms/step - loss: 0.3814 - accuracy: 0.8436 - val_loss: 0.4228 - val_accuracy: 0.8175\n",
            "Epoch 15/40\n",
            "56/56 [==============================] - 4s 61ms/step - loss: 0.3680 - accuracy: 0.8508 - val_loss: 0.4187 - val_accuracy: 0.8213\n",
            "Epoch 16/40\n",
            "56/56 [==============================] - 3s 49ms/step - loss: 0.3568 - accuracy: 0.8549 - val_loss: 0.4148 - val_accuracy: 0.8244\n",
            "Epoch 17/40\n",
            "56/56 [==============================] - 2s 38ms/step - loss: 0.3466 - accuracy: 0.8607 - val_loss: 0.4103 - val_accuracy: 0.8257\n",
            "Epoch 18/40\n",
            "56/56 [==============================] - 2s 36ms/step - loss: 0.3340 - accuracy: 0.8681 - val_loss: 0.4081 - val_accuracy: 0.8257\n",
            "Epoch 19/40\n",
            "56/56 [==============================] - 2s 41ms/step - loss: 0.3232 - accuracy: 0.8733 - val_loss: 0.4032 - val_accuracy: 0.8269\n",
            "Epoch 20/40\n",
            "56/56 [==============================] - 3s 47ms/step - loss: 0.3108 - accuracy: 0.8811 - val_loss: 0.4017 - val_accuracy: 0.8257\n",
            "Epoch 21/40\n",
            "56/56 [==============================] - 2s 29ms/step - loss: 0.3013 - accuracy: 0.8836 - val_loss: 0.4010 - val_accuracy: 0.8257\n",
            "Epoch 22/40\n",
            "56/56 [==============================] - 3s 45ms/step - loss: 0.2887 - accuracy: 0.8887 - val_loss: 0.3995 - val_accuracy: 0.8276\n",
            "Epoch 23/40\n",
            "56/56 [==============================] - 2s 30ms/step - loss: 0.2802 - accuracy: 0.8952 - val_loss: 0.3986 - val_accuracy: 0.8295\n",
            "Epoch 24/40\n",
            "56/56 [==============================] - 2s 33ms/step - loss: 0.2688 - accuracy: 0.8976 - val_loss: 0.4000 - val_accuracy: 0.8326\n",
            "Epoch 25/40\n",
            "56/56 [==============================] - 1s 21ms/step - loss: 0.2559 - accuracy: 0.9043 - val_loss: 0.3989 - val_accuracy: 0.8351\n",
            "Epoch 26/40\n",
            "56/56 [==============================] - 2s 30ms/step - loss: 0.2459 - accuracy: 0.9097 - val_loss: 0.3990 - val_accuracy: 0.8345\n",
            "Epoch 27/40\n",
            "56/56 [==============================] - 2s 32ms/step - loss: 0.2371 - accuracy: 0.9139 - val_loss: 0.4028 - val_accuracy: 0.8339\n",
            "Epoch 28/40\n",
            "56/56 [==============================] - 1s 24ms/step - loss: 0.2261 - accuracy: 0.9185 - val_loss: 0.4035 - val_accuracy: 0.8332\n",
            "Epoch 29/40\n",
            "56/56 [==============================] - 2s 34ms/step - loss: 0.2162 - accuracy: 0.9238 - val_loss: 0.4079 - val_accuracy: 0.8357\n",
            "Epoch 30/40\n",
            "56/56 [==============================] - 2s 34ms/step - loss: 0.2058 - accuracy: 0.9285 - val_loss: 0.4083 - val_accuracy: 0.8332\n",
            "Epoch 31/40\n",
            "56/56 [==============================] - 2s 28ms/step - loss: 0.1979 - accuracy: 0.9320 - val_loss: 0.4141 - val_accuracy: 0.8357\n",
            "Epoch 32/40\n",
            "56/56 [==============================] - 1s 21ms/step - loss: 0.1874 - accuracy: 0.9377 - val_loss: 0.4138 - val_accuracy: 0.8332\n",
            "Epoch 33/40\n",
            "56/56 [==============================] - 2s 29ms/step - loss: 0.1796 - accuracy: 0.9404 - val_loss: 0.4207 - val_accuracy: 0.8339\n",
            "Epoch 34/40\n",
            "56/56 [==============================] - 1s 25ms/step - loss: 0.1715 - accuracy: 0.9423 - val_loss: 0.4218 - val_accuracy: 0.8370\n",
            "Epoch 35/40\n",
            "56/56 [==============================] - 1s 21ms/step - loss: 0.1650 - accuracy: 0.9467 - val_loss: 0.4260 - val_accuracy: 0.8376\n",
            "Epoch 36/40\n",
            "56/56 [==============================] - 1s 27ms/step - loss: 0.1566 - accuracy: 0.9493 - val_loss: 0.4309 - val_accuracy: 0.8376\n",
            "Epoch 37/40\n",
            "56/56 [==============================] - 1s 24ms/step - loss: 0.1508 - accuracy: 0.9511 - val_loss: 0.4382 - val_accuracy: 0.8376\n",
            "Epoch 38/40\n",
            "56/56 [==============================] - 2s 38ms/step - loss: 0.1437 - accuracy: 0.9543 - val_loss: 0.4425 - val_accuracy: 0.8339\n",
            "Epoch 39/40\n",
            "56/56 [==============================] - 1s 24ms/step - loss: 0.1388 - accuracy: 0.9563 - val_loss: 0.4483 - val_accuracy: 0.8351\n",
            "Epoch 40/40\n",
            "56/56 [==============================] - 2s 28ms/step - loss: 0.1342 - accuracy: 0.9560 - val_loss: 0.4512 - val_accuracy: 0.8357\n"
          ]
        },
        {
          "data": {
            "text/plain": [
              "<keras.src.callbacks.History at 0x7fa359dcb760>"
            ]
          },
          "execution_count": 18,
          "metadata": {},
          "output_type": "execute_result"
        }
      ],
      "source": [
        "adam = Adam(learning_rate=1e-4, beta_1=0.9, beta_2=0.999, epsilon=1e-08)\n",
        "model.compile(optimizer=adam, loss='binary_crossentropy', metrics=['accuracy'])\n",
        "\n",
        "model.fit(train_X, train_y,\n",
        "          batch_size=batch_size,\n",
        "          epochs=epochs,\n",
        "          verbose=1,\n",
        "          validation_data=(dev_X, dev_y))"
      ]
    },
    {
      "cell_type": "code",
      "execution_count": null,
      "metadata": {
        "colab": {
          "base_uri": "https://localhost:8080/"
        },
        "id": "uhh6cx1BWjH7",
        "outputId": "6af063de-d824-4213-eb7f-f727eb2dceba"
      },
      "outputs": [
        {
          "name": "stderr",
          "output_type": "stream",
          "text": [
            "/usr/local/lib/python3.10/dist-packages/keras/src/engine/training.py:3079: UserWarning: You are saving your model as an HDF5 file via `model.save()`. This file format is considered legacy. We recommend using instead the native Keras format, e.g. `model.save('my_model.keras')`.\n",
            "  saving_api.save_model(\n"
          ]
        }
      ],
      "source": [
        "TEXT_CNN_MODEL = os.path.join(MODEL_DIR, 'Text_CNN_task1.h5')\n",
        "model.save(TEXT_CNN_MODEL, save_format='h5')"
      ]
    },
    {
      "cell_type": "code",
      "execution_count": null,
      "metadata": {
        "colab": {
          "base_uri": "https://localhost:8080/",
          "height": 482
        },
        "id": "LE_xGP0VWmmI",
        "outputId": "032ab43c-7c80-4699-fb65-8dcb5c5c8a15"
      },
      "outputs": [
        {
          "name": "stdout",
          "output_type": "stream",
          "text": [
            "F1 - micro: 0.830478589420655\n",
            "F1 - macro: 0.7653964892494867\n",
            "Accuracy: 0.8304785894206549\n"
          ]
        },
        {
          "data": {
            "image/png": "[encoded data removed]",
            "text/plain": [
              "<Figure size 640x480 with 2 Axes>"
            ]
          },
          "metadata": {},
          "output_type": "display_data"
        }
      ],
      "source": [
        "show_predict_result(model, test_X, test_y, labels_task_1)"
      ]
    },
    {
      "cell_type": "code",
      "execution_count": null,
      "metadata": {
        "colab": {
          "base_uri": "https://localhost:8080/"
        },
        "id": "5iv7U84PYugu",
        "outputId": "89eeb4c5-e09d-4773-c763-350fc7686d3f"
      },
      "outputs": [
        {
          "name": "stdout",
          "output_type": "stream",
          "text": [
            "Model: \"model_1\"\n",
            "__________________________________________________________________________________________________\n",
            " Layer (type)                Output Shape                 Param #   Connected to                  \n",
            "==================================================================================================\n",
            " input_2 (InputLayer)        [(None, 100)]                0         []                            \n",
            "                                                                                                  \n",
            " embedding_1 (Embedding)     (None, 100, 300)             6033000   ['input_2[0][0]']             \n",
            "                                                                                                  \n",
            " reshape_1 (Reshape)         (None, 100, 300, 1)          0         ['embedding_1[0][0]']         \n",
            "                                                                                                  \n",
            " conv2d_3 (Conv2D)           (None, 99, 1, 32)            19232     ['reshape_1[0][0]']           \n",
            "                                                                                                  \n",
            " conv2d_4 (Conv2D)           (None, 98, 1, 32)            28832     ['reshape_1[0][0]']           \n",
            "                                                                                                  \n",
            " conv2d_5 (Conv2D)           (None, 96, 1, 32)            48032     ['reshape_1[0][0]']           \n",
            "                                                                                                  \n",
            " max_pooling2d_3 (MaxPoolin  (None, 1, 1, 32)             0         ['conv2d_3[0][0]']            \n",
            " g2D)                                                                                             \n",
            "                                                                                                  \n",
            " max_pooling2d_4 (MaxPoolin  (None, 1, 1, 32)             0         ['conv2d_4[0][0]']            \n",
            " g2D)                                                                                             \n",
            "                                                                                                  \n",
            " max_pooling2d_5 (MaxPoolin  (None, 1, 1, 32)             0         ['conv2d_5[0][0]']            \n",
            " g2D)                                                                                             \n",
            "                                                                                                  \n",
            " concatenate_1 (Concatenate  (None, 3, 1, 32)             0         ['max_pooling2d_3[0][0]',     \n",
            " )                                                                   'max_pooling2d_4[0][0]',     \n",
            "                                                                     'max_pooling2d_5[0][0]']     \n",
            "                                                                                                  \n",
            " flatten_1 (Flatten)         (None, 96)                   0         ['concatenate_1[0][0]']       \n",
            "                                                                                                  \n",
            " dropout_1 (Dropout)         (None, 96)                   0         ['flatten_1[0][0]']           \n",
            "                                                                                                  \n",
            " dense_1 (Dense)             (None, 4)                    388       ['dropout_1[0][0]']           \n",
            "                                                                                                  \n",
            "==================================================================================================\n",
            "Total params: 6129484 (23.38 MB)\n",
            "Trainable params: 6129484 (23.38 MB)\n",
            "Non-trainable params: 0 (0.00 Byte)\n",
            "__________________________________________________________________________________________________\n"
          ]
        }
      ],
      "source": [
        "\n",
        "inputs = Input(shape=(sequence_length,), dtype='int32')\n",
        "embedding = Embedding(input_dim=num_words, output_dim=embedding_dim, input_length=sequence_length, weights=[embedding_matrix])(inputs)\n",
        "reshape = Reshape((sequence_length,embedding_dim,1))(embedding)\n",
        "\n",
        "conv_0 = Conv2D(num_filters, kernel_size=(filter_sizes[0], embedding_dim), padding='valid', kernel_initializer='normal', activation='elu')(reshape)\n",
        "conv_1 = Conv2D(num_filters, kernel_size=(filter_sizes[1], embedding_dim), padding='valid', kernel_initializer='normal', activation='elu')(reshape)\n",
        "conv_2 = Conv2D(num_filters, kernel_size=(filter_sizes[2], embedding_dim), padding='valid', kernel_initializer='normal', activation='elu')(reshape)\n",
        "\n",
        "maxpool_0 = MaxPool2D(pool_size=(sequence_length - filter_sizes[0] + 1, 1), strides=(1,1), padding='valid')(conv_0)\n",
        "maxpool_1 = MaxPool2D(pool_size=(sequence_length - filter_sizes[1] + 1, 1), strides=(1,1), padding='valid')(conv_1)\n",
        "maxpool_2 = MaxPool2D(pool_size=(sequence_length - filter_sizes[2] + 1, 1), strides=(1,1), padding='valid')(conv_2)\n",
        "\n",
        "concatenated_tensor = Concatenate(axis=1)([maxpool_0, maxpool_1, maxpool_2])\n",
        "flatten = Flatten()(concatenated_tensor)\n",
        "dropout = Dropout(drop)(flatten)\n",
        "output = Dense(units=4, activation='softmax')(dropout)\n",
        "\n",
        "model = Model(inputs=inputs, outputs=output)\n",
        "\n",
        "model.summary()"
      ]
    },
    {
      "cell_type": "code",
      "execution_count": null,
      "metadata": {
        "colab": {
          "base_uri": "https://localhost:8080/"
        },
        "id": "NTCC4d9lO0Wu",
        "outputId": "c5eba3c9-2e21-47d2-e7e0-c361edf8c1db"
      },
      "outputs": [
        {
          "name": "stdout",
          "output_type": "stream",
          "text": [
            "Epoch 1/40\n",
            "56/56 [==============================] - 10s 159ms/step - loss: 1.0347 - accuracy: 0.6584 - val_loss: 0.8429 - val_accuracy: 0.7281\n",
            "Epoch 2/40\n",
            "56/56 [==============================] - 6s 102ms/step - loss: 0.8019 - accuracy: 0.7451 - val_loss: 0.7555 - val_accuracy: 0.7332\n",
            "Epoch 3/40\n",
            "56/56 [==============================] - 7s 132ms/step - loss: 0.7366 - accuracy: 0.7519 - val_loss: 0.7136 - val_accuracy: 0.7388\n",
            "Epoch 4/40\n",
            "56/56 [==============================] - 5s 80ms/step - loss: 0.6909 - accuracy: 0.7741 - val_loss: 0.6831 - val_accuracy: 0.7458\n",
            "Epoch 5/40\n",
            "56/56 [==============================] - 4s 74ms/step - loss: 0.6596 - accuracy: 0.7939 - val_loss: 0.6591 - val_accuracy: 0.7772\n",
            "Epoch 6/40\n",
            "56/56 [==============================] - 5s 85ms/step - loss: 0.6312 - accuracy: 0.8028 - val_loss: 0.6394 - val_accuracy: 0.7804\n",
            "Epoch 7/40\n",
            "56/56 [==============================] - 3s 50ms/step - loss: 0.6102 - accuracy: 0.8046 - val_loss: 0.6225 - val_accuracy: 0.7848\n",
            "Epoch 8/40\n",
            "56/56 [==============================] - 3s 59ms/step - loss: 0.5899 - accuracy: 0.8090 - val_loss: 0.6091 - val_accuracy: 0.7873\n",
            "Epoch 9/40\n",
            "56/56 [==============================] - 3s 54ms/step - loss: 0.5758 - accuracy: 0.8116 - val_loss: 0.5980 - val_accuracy: 0.7911\n",
            "Epoch 10/40\n",
            "56/56 [==============================] - 3s 52ms/step - loss: 0.5541 - accuracy: 0.8161 - val_loss: 0.5876 - val_accuracy: 0.7955\n",
            "Epoch 11/40\n",
            "56/56 [==============================] - 3s 58ms/step - loss: 0.5381 - accuracy: 0.8209 - val_loss: 0.5795 - val_accuracy: 0.7961\n",
            "Epoch 12/40\n",
            "56/56 [==============================] - 2s 41ms/step - loss: 0.5250 - accuracy: 0.8227 - val_loss: 0.5716 - val_accuracy: 0.7980\n",
            "Epoch 13/40\n",
            "56/56 [==============================] - 2s 33ms/step - loss: 0.5086 - accuracy: 0.8294 - val_loss: 0.5642 - val_accuracy: 0.8011\n",
            "Epoch 14/40\n",
            "56/56 [==============================] - 2s 35ms/step - loss: 0.4944 - accuracy: 0.8316 - val_loss: 0.5581 - val_accuracy: 0.8043\n",
            "Epoch 15/40\n",
            "56/56 [==============================] - 2s 35ms/step - loss: 0.4833 - accuracy: 0.8354 - val_loss: 0.5511 - val_accuracy: 0.8062\n",
            "Epoch 16/40\n",
            "56/56 [==============================] - 2s 32ms/step - loss: 0.4650 - accuracy: 0.8410 - val_loss: 0.5449 - val_accuracy: 0.8074\n",
            "Epoch 17/40\n",
            "56/56 [==============================] - 3s 47ms/step - loss: 0.4547 - accuracy: 0.8446 - val_loss: 0.5403 - val_accuracy: 0.8093\n",
            "Epoch 18/40\n",
            "56/56 [==============================] - 2s 42ms/step - loss: 0.4384 - accuracy: 0.8494 - val_loss: 0.5340 - val_accuracy: 0.8156\n",
            "Epoch 19/40\n",
            "56/56 [==============================] - 2s 27ms/step - loss: 0.4293 - accuracy: 0.8518 - val_loss: 0.5305 - val_accuracy: 0.8156\n",
            "Epoch 20/40\n",
            "56/56 [==============================] - 2s 27ms/step - loss: 0.4117 - accuracy: 0.8591 - val_loss: 0.5271 - val_accuracy: 0.8162\n",
            "Epoch 21/40\n",
            "56/56 [==============================] - 2s 30ms/step - loss: 0.3997 - accuracy: 0.8628 - val_loss: 0.5213 - val_accuracy: 0.8194\n",
            "Epoch 22/40\n",
            "56/56 [==============================] - 2s 31ms/step - loss: 0.3856 - accuracy: 0.8644 - val_loss: 0.5175 - val_accuracy: 0.8219\n",
            "Epoch 23/40\n",
            "56/56 [==============================] - 2s 27ms/step - loss: 0.3736 - accuracy: 0.8735 - val_loss: 0.5125 - val_accuracy: 0.8213\n",
            "Epoch 24/40\n",
            "56/56 [==============================] - 2s 28ms/step - loss: 0.3582 - accuracy: 0.8766 - val_loss: 0.5122 - val_accuracy: 0.8232\n",
            "Epoch 25/40\n",
            "56/56 [==============================] - 2s 36ms/step - loss: 0.3463 - accuracy: 0.8829 - val_loss: 0.5100 - val_accuracy: 0.8250\n",
            "Epoch 26/40\n",
            "56/56 [==============================] - 1s 25ms/step - loss: 0.3345 - accuracy: 0.8861 - val_loss: 0.5098 - val_accuracy: 0.8238\n",
            "Epoch 27/40\n",
            "56/56 [==============================] - 2s 36ms/step - loss: 0.3250 - accuracy: 0.8900 - val_loss: 0.5077 - val_accuracy: 0.8244\n",
            "Epoch 28/40\n",
            "56/56 [==============================] - 1s 25ms/step - loss: 0.3094 - accuracy: 0.8970 - val_loss: 0.5080 - val_accuracy: 0.8232\n",
            "Epoch 29/40\n",
            "56/56 [==============================] - 1s 25ms/step - loss: 0.3002 - accuracy: 0.8979 - val_loss: 0.5083 - val_accuracy: 0.8238\n",
            "Epoch 30/40\n",
            "56/56 [==============================] - 2s 30ms/step - loss: 0.2857 - accuracy: 0.9041 - val_loss: 0.5091 - val_accuracy: 0.8213\n",
            "Epoch 31/40\n",
            "56/56 [==============================] - 1s 22ms/step - loss: 0.2772 - accuracy: 0.9077 - val_loss: 0.5109 - val_accuracy: 0.8225\n",
            "Epoch 32/40\n",
            "56/56 [==============================] - 1s 25ms/step - loss: 0.2649 - accuracy: 0.9141 - val_loss: 0.5082 - val_accuracy: 0.8244\n",
            "Epoch 33/40\n",
            "56/56 [==============================] - 1s 20ms/step - loss: 0.2563 - accuracy: 0.9168 - val_loss: 0.5119 - val_accuracy: 0.8219\n",
            "Epoch 34/40\n",
            "56/56 [==============================] - 1s 21ms/step - loss: 0.2438 - accuracy: 0.9187 - val_loss: 0.5157 - val_accuracy: 0.8213\n",
            "Epoch 35/40\n",
            "56/56 [==============================] - 1s 20ms/step - loss: 0.2342 - accuracy: 0.9250 - val_loss: 0.5155 - val_accuracy: 0.8225\n",
            "Epoch 36/40\n",
            "56/56 [==============================] - 2s 28ms/step - loss: 0.2262 - accuracy: 0.9274 - val_loss: 0.5193 - val_accuracy: 0.8213\n",
            "Epoch 37/40\n",
            "56/56 [==============================] - 1s 26ms/step - loss: 0.2177 - accuracy: 0.9280 - val_loss: 0.5259 - val_accuracy: 0.8219\n",
            "Epoch 38/40\n",
            "56/56 [==============================] - 1s 22ms/step - loss: 0.2108 - accuracy: 0.9335 - val_loss: 0.5280 - val_accuracy: 0.8206\n",
            "Epoch 39/40\n",
            "56/56 [==============================] - 1s 21ms/step - loss: 0.2031 - accuracy: 0.9363 - val_loss: 0.5298 - val_accuracy: 0.8213\n",
            "Epoch 40/40\n",
            "56/56 [==============================] - 1s 23ms/step - loss: 0.1948 - accuracy: 0.9413 - val_loss: 0.5319 - val_accuracy: 0.8225\n"
          ]
        },
        {
          "data": {
            "text/plain": [
              "<keras.src.callbacks.History at 0x7fa348063d90>"
            ]
          },
          "execution_count": 22,
          "metadata": {},
          "output_type": "execute_result"
        }
      ],
      "source": [
        "adam = Adam(learning_rate=1e-4, beta_1=0.9, beta_2=0.999, epsilon=1e-08)\n",
        "model.compile(optimizer=adam, loss='categorical_crossentropy', metrics=['accuracy'])\n",
        "\n",
        "model.fit(train_X, train_y_spam,\n",
        "          batch_size=batch_size,\n",
        "          epochs=epochs,\n",
        "          verbose=1,\n",
        "          validation_data=(dev_X, dev_y_spam))"
      ]
    },
    {
      "cell_type": "code",
      "execution_count": null,
      "metadata": {
        "colab": {
          "base_uri": "https://localhost:8080/"
        },
        "id": "1qGpEou9YymL",
        "outputId": "c78a9116-8f37-4dd0-eda5-e32d36554db7"
      },
      "outputs": [
        {
          "name": "stderr",
          "output_type": "stream",
          "text": [
            "/usr/local/lib/python3.10/dist-packages/keras/src/engine/training.py:3079: UserWarning: You are saving your model as an HDF5 file via `model.save()`. This file format is considered legacy. We recommend using instead the native Keras format, e.g. `model.save('my_model.keras')`.\n",
            "  saving_api.save_model(\n"
          ]
        }
      ],
      "source": [
        "\n",
        "TEXT_CNN_MODEL = os.path.join(MODEL_DIR, 'Text_CNN_task2.h5')\n",
        "model.save(TEXT_CNN_MODEL, save_format='h5')"
      ]
    },
    {
      "cell_type": "code",
      "execution_count": null,
      "metadata": {
        "colab": {
          "base_uri": "https://localhost:8080/",
          "height": 482
        },
        "id": "yisOT_scY2m9",
        "outputId": "9e4b949f-7b6f-4497-d568-fce6717a74c5"
      },
      "outputs": [
        {
          "name": "stdout",
          "output_type": "stream",
          "text": [
            "F1 - micro: 0.8312342569269522\n",
            "F1 - macro: 0.6504811203819556\n",
            "Accuracy: 0.8312342569269522\n"
          ]
        },
        {
          "data": {
            "image/png": "[encoded data removed]",
            "text/plain": [
              "<Figure size 640x480 with 2 Axes>"
            ]
          },
          "metadata": {},
          "output_type": "display_data"
        }
      ],
      "source": [
        "show_predict_result(model, test_X, test_y_spam, labels_task_2)"
      ]
    },
    {
      "cell_type": "markdown",
      "metadata": {},
      "source": [
        "Bi LSTM"
      ]
    },
    {
      "cell_type": "code",
      "execution_count": null,
      "metadata": {
        "colab": {
          "base_uri": "https://localhost:8080/"
        },
        "id": "iCSRq3EuEnyh",
        "outputId": "31fc9ee7-5027-4d95-d1bc-b6f367f5156a"
      },
      "outputs": [
        {
          "name": "stdout",
          "output_type": "stream",
          "text": [
            "Model: \"model_2\"\n",
            "__________________________________________________________________________________________________\n",
            " Layer (type)                Output Shape                 Param #   Connected to                  \n",
            "==================================================================================================\n",
            " input_3 (InputLayer)        [(None, 100)]                0         []                            \n",
            "                                                                                                  \n",
            " embedding_2 (Embedding)     (None, 100, 300)             6033000   ['input_3[0][0]']             \n",
            "                                                                                                  \n",
            " spatial_dropout1d (Spatial  (None, 100, 300)             0         ['embedding_2[0][0]']         \n",
            " Dropout1D)                                                                                       \n",
            "                                                                                                  \n",
            " bidirectional (Bidirection  (None, 100, 128)             186880    ['spatial_dropout1d[0][0]']   \n",
            " al)                                                                                              \n",
            "                                                                                                  \n",
            " global_average_pooling1d (  (None, 128)                  0         ['bidirectional[0][0]']       \n",
            " GlobalAveragePooling1D)                                                                          \n",
            "                                                                                                  \n",
            " global_max_pooling1d (Glob  (None, 128)                  0         ['bidirectional[0][0]']       \n",
            " alMaxPooling1D)                                                                                  \n",
            "                                                                                                  \n",
            " concatenate_2 (Concatenate  (None, 256)                  0         ['global_average_pooling1d[0][\n",
            " )                                                                  0]',                          \n",
            "                                                                     'global_max_pooling1d[0][0]']\n",
            "                                                                                                  \n",
            " dense_2 (Dense)             (None, 2)                    514       ['concatenate_2[0][0]']       \n",
            "                                                                                                  \n",
            "==================================================================================================\n",
            "Total params: 6220394 (23.73 MB)\n",
            "Trainable params: 6220394 (23.73 MB)\n",
            "Non-trainable params: 0 (0.00 Byte)\n",
            "__________________________________________________________________________________________________\n"
          ]
        }
      ],
      "source": [
        "input = Input(shape=(sequence_length,))\n",
        "x = Embedding(num_words, embedding_dim, weights=[embedding_matrix])(input)\n",
        "x = SpatialDropout1D(0.2)(x)\n",
        "x = Bidirectional(LSTM(64, return_sequences=True))(x)\n",
        "avg_pool = GlobalAveragePooling1D()(x)\n",
        "max_pool = GlobalMaxPooling1D()(x)\n",
        "conc = concatenate([avg_pool, max_pool])\n",
        "output = Dense(2, activation=\"softmax\")(conc)\n",
        "\n",
        "model = Model(inputs=input, outputs=output)\n",
        "model.summary()"
      ]
    },
    {
      "cell_type": "code",
      "execution_count": null,
      "metadata": {
        "colab": {
          "base_uri": "https://localhost:8080/"
        },
        "id": "vTGAkel1aviD",
        "outputId": "6be0e78d-e96d-4206-931a-2a6ebd67e6ba"
      },
      "outputs": [
        {
          "name": "stdout",
          "output_type": "stream",
          "text": [
            "Epoch 1/40\n",
            "56/56 [==============================] - 14s 140ms/step - loss: 0.6602 - accuracy: 0.6689 - val_loss: 0.6121 - val_accuracy: 0.7281\n",
            "Epoch 2/40\n",
            "56/56 [==============================] - 7s 134ms/step - loss: 0.5608 - accuracy: 0.7400 - val_loss: 0.5468 - val_accuracy: 0.7281\n",
            "Epoch 3/40\n",
            "56/56 [==============================] - 6s 101ms/step - loss: 0.5212 - accuracy: 0.7403 - val_loss: 0.5201 - val_accuracy: 0.7294\n",
            "Epoch 4/40\n",
            "56/56 [==============================] - 4s 66ms/step - loss: 0.4891 - accuracy: 0.7500 - val_loss: 0.4855 - val_accuracy: 0.7451\n",
            "Epoch 5/40\n",
            "56/56 [==============================] - 5s 99ms/step - loss: 0.4590 - accuracy: 0.7827 - val_loss: 0.4648 - val_accuracy: 0.8018\n",
            "Epoch 6/40\n",
            "56/56 [==============================] - 4s 64ms/step - loss: 0.4285 - accuracy: 0.8289 - val_loss: 0.4461 - val_accuracy: 0.8112\n",
            "Epoch 7/40\n",
            "56/56 [==============================] - 4s 63ms/step - loss: 0.4000 - accuracy: 0.8349 - val_loss: 0.4437 - val_accuracy: 0.8143\n",
            "Epoch 8/40\n",
            "56/56 [==============================] - 3s 60ms/step - loss: 0.3747 - accuracy: 0.8478 - val_loss: 0.4340 - val_accuracy: 0.8024\n",
            "Epoch 9/40\n",
            "56/56 [==============================] - 5s 86ms/step - loss: 0.3538 - accuracy: 0.8612 - val_loss: 0.4216 - val_accuracy: 0.8238\n",
            "Epoch 10/40\n",
            "56/56 [==============================] - 3s 48ms/step - loss: 0.3359 - accuracy: 0.8676 - val_loss: 0.4225 - val_accuracy: 0.8238\n",
            "Epoch 11/40\n",
            "56/56 [==============================] - 3s 45ms/step - loss: 0.3151 - accuracy: 0.8775 - val_loss: 0.4188 - val_accuracy: 0.8257\n",
            "Epoch 12/40\n",
            "56/56 [==============================] - 3s 47ms/step - loss: 0.2905 - accuracy: 0.8884 - val_loss: 0.4252 - val_accuracy: 0.8219\n",
            "Epoch 13/40\n",
            "56/56 [==============================] - 2s 39ms/step - loss: 0.2752 - accuracy: 0.8958 - val_loss: 0.4196 - val_accuracy: 0.8263\n",
            "Epoch 14/40\n",
            "56/56 [==============================] - 3s 53ms/step - loss: 0.2624 - accuracy: 0.9002 - val_loss: 0.4476 - val_accuracy: 0.8225\n",
            "Epoch 15/40\n",
            "56/56 [==============================] - 2s 43ms/step - loss: 0.2504 - accuracy: 0.9052 - val_loss: 0.4294 - val_accuracy: 0.8263\n",
            "Epoch 16/40\n",
            "56/56 [==============================] - 3s 49ms/step - loss: 0.2333 - accuracy: 0.9117 - val_loss: 0.4390 - val_accuracy: 0.8244\n",
            "Epoch 17/40\n",
            "56/56 [==============================] - 2s 42ms/step - loss: 0.2236 - accuracy: 0.9161 - val_loss: 0.4323 - val_accuracy: 0.8232\n",
            "Epoch 18/40\n",
            "56/56 [==============================] - 2s 42ms/step - loss: 0.2129 - accuracy: 0.9206 - val_loss: 0.4342 - val_accuracy: 0.8295\n",
            "Epoch 19/40\n",
            "56/56 [==============================] - 2s 39ms/step - loss: 0.2037 - accuracy: 0.9228 - val_loss: 0.4405 - val_accuracy: 0.8313\n",
            "Epoch 20/40\n",
            "56/56 [==============================] - 2s 41ms/step - loss: 0.1975 - accuracy: 0.9267 - val_loss: 0.4739 - val_accuracy: 0.8225\n",
            "Epoch 21/40\n",
            "56/56 [==============================] - 3s 48ms/step - loss: 0.1898 - accuracy: 0.9297 - val_loss: 0.4600 - val_accuracy: 0.8276\n",
            "Epoch 22/40\n",
            "56/56 [==============================] - 2s 34ms/step - loss: 0.1859 - accuracy: 0.9313 - val_loss: 0.4642 - val_accuracy: 0.8301\n",
            "Epoch 23/40\n",
            "56/56 [==============================] - 2s 39ms/step - loss: 0.1759 - accuracy: 0.9336 - val_loss: 0.4747 - val_accuracy: 0.8238\n",
            "Epoch 24/40\n",
            "56/56 [==============================] - 2s 30ms/step - loss: 0.1719 - accuracy: 0.9388 - val_loss: 0.4808 - val_accuracy: 0.8200\n",
            "Epoch 25/40\n",
            "56/56 [==============================] - 2s 32ms/step - loss: 0.1610 - accuracy: 0.9430 - val_loss: 0.4852 - val_accuracy: 0.8263\n",
            "Epoch 26/40\n",
            "56/56 [==============================] - 2s 31ms/step - loss: 0.1622 - accuracy: 0.9403 - val_loss: 0.5017 - val_accuracy: 0.8263\n",
            "Epoch 27/40\n",
            "56/56 [==============================] - 2s 42ms/step - loss: 0.1538 - accuracy: 0.9450 - val_loss: 0.4970 - val_accuracy: 0.8194\n",
            "Epoch 28/40\n",
            "56/56 [==============================] - 2s 31ms/step - loss: 0.1453 - accuracy: 0.9486 - val_loss: 0.5274 - val_accuracy: 0.8143\n",
            "Epoch 29/40\n",
            "56/56 [==============================] - 2s 34ms/step - loss: 0.1498 - accuracy: 0.9453 - val_loss: 0.5081 - val_accuracy: 0.8206\n",
            "Epoch 30/40\n",
            "56/56 [==============================] - 2s 29ms/step - loss: 0.1438 - accuracy: 0.9467 - val_loss: 0.5452 - val_accuracy: 0.8118\n",
            "Epoch 31/40\n",
            "56/56 [==============================] - 1s 26ms/step - loss: 0.1429 - accuracy: 0.9493 - val_loss: 0.5357 - val_accuracy: 0.8162\n",
            "Epoch 32/40\n",
            "56/56 [==============================] - 2s 31ms/step - loss: 0.1349 - accuracy: 0.9517 - val_loss: 0.5389 - val_accuracy: 0.8099\n",
            "Epoch 33/40\n",
            "56/56 [==============================] - 2s 32ms/step - loss: 0.1305 - accuracy: 0.9530 - val_loss: 0.5636 - val_accuracy: 0.8106\n",
            "Epoch 34/40\n",
            "56/56 [==============================] - 2s 31ms/step - loss: 0.1327 - accuracy: 0.9524 - val_loss: 0.5592 - val_accuracy: 0.8062\n",
            "Epoch 35/40\n",
            "56/56 [==============================] - 2s 36ms/step - loss: 0.1285 - accuracy: 0.9536 - val_loss: 0.5646 - val_accuracy: 0.8055\n",
            "Epoch 36/40\n",
            "56/56 [==============================] - 2s 41ms/step - loss: 0.1259 - accuracy: 0.9550 - val_loss: 0.5960 - val_accuracy: 0.8143\n",
            "Epoch 37/40\n",
            "56/56 [==============================] - 2s 30ms/step - loss: 0.1256 - accuracy: 0.9548 - val_loss: 0.5872 - val_accuracy: 0.8068\n",
            "Epoch 38/40\n",
            "56/56 [==============================] - 1s 26ms/step - loss: 0.1204 - accuracy: 0.9564 - val_loss: 0.5946 - val_accuracy: 0.8099\n",
            "Epoch 39/40\n",
            "56/56 [==============================] - 2s 31ms/step - loss: 0.1170 - accuracy: 0.9578 - val_loss: 0.5970 - val_accuracy: 0.8106\n",
            "Epoch 40/40\n",
            "56/56 [==============================] - 1s 26ms/step - loss: 0.1179 - accuracy: 0.9577 - val_loss: 0.6096 - val_accuracy: 0.8074\n"
          ]
        },
        {
          "data": {
            "text/plain": [
              "<keras.src.callbacks.History at 0x7fa348eb2ce0>"
            ]
          },
          "execution_count": 26,
          "metadata": {},
          "output_type": "execute_result"
        }
      ],
      "source": [
        "adam = Adam(learning_rate=1e-4, beta_1=0.9, beta_2=0.999, epsilon=1e-08)\n",
        "model.compile(optimizer=adam, loss='binary_crossentropy', metrics=['accuracy'])\n",
        "model.fit(train_X, train_y,\n",
        "          batch_size=batch_size,\n",
        "          epochs=epochs,\n",
        "          verbose=1,\n",
        "          validation_data=(dev_X, dev_y))"
      ]
    },
    {
      "cell_type": "code",
      "execution_count": null,
      "metadata": {
        "colab": {
          "base_uri": "https://localhost:8080/"
        },
        "id": "C3hpaxgRaxkE",
        "outputId": "9a60b695-461b-4204-fcf6-3efd9e2a283a"
      },
      "outputs": [
        {
          "name": "stderr",
          "output_type": "stream",
          "text": [
            "/usr/local/lib/python3.10/dist-packages/keras/src/engine/training.py:3079: UserWarning: You are saving your model as an HDF5 file via `model.save()`. This file format is considered legacy. We recommend using instead the native Keras format, e.g. `model.save('my_model.keras')`.\n",
            "  saving_api.save_model(\n"
          ]
        }
      ],
      "source": [
        "BILSTM_MODEL = os.path.join(MODEL_DIR, 'BiLSTM_task1.h5')\n",
        "model.save(BILSTM_MODEL, save_format='h5')"
      ]
    },
    {
      "cell_type": "code",
      "execution_count": null,
      "metadata": {
        "colab": {
          "base_uri": "https://localhost:8080/",
          "height": 482
        },
        "id": "Ghs2SItla0r0",
        "outputId": "bbfa4a07-19f4-4d2d-f4cf-cf1d56e35a98"
      },
      "outputs": [
        {
          "name": "stdout",
          "output_type": "stream",
          "text": [
            "F1 - micro: 0.8206549118387909\n",
            "F1 - macro: 0.7531561093915322\n",
            "Accuracy: 0.8206549118387909\n"
          ]
        },
        {
          "data": {
            "image/png": "[encoded data removed]",
            "text/plain": [
              "<Figure size 640x480 with 2 Axes>"
            ]
          },
          "metadata": {},
          "output_type": "display_data"
        }
      ],
      "source": [
        "show_predict_result(model, test_X, test_y, labels_task_1)"
      ]
    },
    {
      "cell_type": "code",
      "execution_count": null,
      "metadata": {
        "colab": {
          "base_uri": "https://localhost:8080/"
        },
        "id": "AdLAUMPPa1NY",
        "outputId": "31b2c5b9-a446-49c8-ff41-bcb29610874e"
      },
      "outputs": [
        {
          "name": "stdout",
          "output_type": "stream",
          "text": [
            "Model: \"model_3\"\n",
            "__________________________________________________________________________________________________\n",
            " Layer (type)                Output Shape                 Param #   Connected to                  \n",
            "==================================================================================================\n",
            " input_4 (InputLayer)        [(None, 100)]                0         []                            \n",
            "                                                                                                  \n",
            " embedding_3 (Embedding)     (None, 100, 300)             6033000   ['input_4[0][0]']             \n",
            "                                                                                                  \n",
            " spatial_dropout1d_1 (Spati  (None, 100, 300)             0         ['embedding_3[0][0]']         \n",
            " alDropout1D)                                                                                     \n",
            "                                                                                                  \n",
            " bidirectional_1 (Bidirecti  (None, 100, 128)             186880    ['spatial_dropout1d_1[0][0]'] \n",
            " onal)                                                                                            \n",
            "                                                                                                  \n",
            " global_average_pooling1d_1  (None, 128)                  0         ['bidirectional_1[0][0]']     \n",
            "  (GlobalAveragePooling1D)                                                                        \n",
            "                                                                                                  \n",
            " global_max_pooling1d_1 (Gl  (None, 128)                  0         ['bidirectional_1[0][0]']     \n",
            " obalMaxPooling1D)                                                                                \n",
            "                                                                                                  \n",
            " concatenate_3 (Concatenate  (None, 256)                  0         ['global_average_pooling1d_1[0\n",
            " )                                                                  ][0]',                        \n",
            "                                                                     'global_max_pooling1d_1[0][0]\n",
            "                                                                    ']                            \n",
            "                                                                                                  \n",
            " dense_3 (Dense)             (None, 4)                    1028      ['concatenate_3[0][0]']       \n",
            "                                                                                                  \n",
            "==================================================================================================\n",
            "Total params: 6220908 (23.73 MB)\n",
            "Trainable params: 6220908 (23.73 MB)\n",
            "Non-trainable params: 0 (0.00 Byte)\n",
            "__________________________________________________________________________________________________\n"
          ]
        }
      ],
      "source": [
        "input = Input(shape=(sequence_length,))\n",
        "x = Embedding(num_words, embedding_dim, weights=[embedding_matrix])(input)\n",
        "x = SpatialDropout1D(0.2)(x)\n",
        "x = Bidirectional(LSTM(64, return_sequences=True))(x)\n",
        "avg_pool = GlobalAveragePooling1D()(x)\n",
        "max_pool = GlobalMaxPooling1D()(x)\n",
        "conc = concatenate([avg_pool, max_pool])\n",
        "output = Dense(4, activation=\"softmax\")(conc)\n",
        "\n",
        "model = Model(inputs=input, outputs=output)\n",
        "model.summary()"
      ]
    },
    {
      "cell_type": "code",
      "execution_count": null,
      "metadata": {
        "colab": {
          "base_uri": "https://localhost:8080/"
        },
        "id": "jMGXuZR9a3GN",
        "outputId": "3fb5f96b-e0a9-4520-fd8f-c565d36de9fb"
      },
      "outputs": [
        {
          "name": "stdout",
          "output_type": "stream",
          "text": [
            "Epoch 1/40\n",
            "56/56 [==============================] - 13s 135ms/step - loss: 1.2475 - accuracy: 0.6467 - val_loss: 1.0612 - val_accuracy: 0.7281\n",
            "Epoch 2/40\n",
            "56/56 [==============================] - 7s 129ms/step - loss: 0.8592 - accuracy: 0.7402 - val_loss: 0.7916 - val_accuracy: 0.7281\n",
            "Epoch 3/40\n",
            "56/56 [==============================] - 5s 96ms/step - loss: 0.7409 - accuracy: 0.7403 - val_loss: 0.7485 - val_accuracy: 0.7288\n",
            "Epoch 4/40\n",
            "56/56 [==============================] - 5s 91ms/step - loss: 0.7050 - accuracy: 0.7412 - val_loss: 0.7197 - val_accuracy: 0.7294\n",
            "Epoch 5/40\n",
            "56/56 [==============================] - 6s 104ms/step - loss: 0.6702 - accuracy: 0.7530 - val_loss: 0.6810 - val_accuracy: 0.7489\n",
            "Epoch 6/40\n",
            "56/56 [==============================] - 4s 64ms/step - loss: 0.6256 - accuracy: 0.7981 - val_loss: 0.6448 - val_accuracy: 0.7930\n",
            "Epoch 7/40\n",
            "56/56 [==============================] - 3s 55ms/step - loss: 0.5881 - accuracy: 0.8119 - val_loss: 0.6205 - val_accuracy: 0.7986\n",
            "Epoch 8/40\n",
            "56/56 [==============================] - 4s 66ms/step - loss: 0.5587 - accuracy: 0.8233 - val_loss: 0.6082 - val_accuracy: 0.8011\n",
            "Epoch 9/40\n",
            "56/56 [==============================] - 4s 73ms/step - loss: 0.5326 - accuracy: 0.8340 - val_loss: 0.5959 - val_accuracy: 0.8055\n",
            "Epoch 10/40\n",
            "56/56 [==============================] - 3s 50ms/step - loss: 0.5154 - accuracy: 0.8368 - val_loss: 0.5845 - val_accuracy: 0.8106\n",
            "Epoch 11/40\n",
            "56/56 [==============================] - 2s 42ms/step - loss: 0.4861 - accuracy: 0.8449 - val_loss: 0.5719 - val_accuracy: 0.8062\n",
            "Epoch 12/40\n",
            "56/56 [==============================] - 2s 37ms/step - loss: 0.4615 - accuracy: 0.8476 - val_loss: 0.5768 - val_accuracy: 0.8074\n",
            "Epoch 13/40\n",
            "56/56 [==============================] - 2s 41ms/step - loss: 0.4377 - accuracy: 0.8538 - val_loss: 0.5642 - val_accuracy: 0.8037\n",
            "Epoch 14/40\n",
            "56/56 [==============================] - 4s 63ms/step - loss: 0.4183 - accuracy: 0.8569 - val_loss: 0.5777 - val_accuracy: 0.8011\n",
            "Epoch 15/40\n",
            "56/56 [==============================] - 2s 44ms/step - loss: 0.3983 - accuracy: 0.8628 - val_loss: 0.5557 - val_accuracy: 0.8049\n",
            "Epoch 16/40\n",
            "56/56 [==============================] - 2s 41ms/step - loss: 0.3773 - accuracy: 0.8665 - val_loss: 0.5729 - val_accuracy: 0.8030\n",
            "Epoch 17/40\n",
            "56/56 [==============================] - 2s 41ms/step - loss: 0.3587 - accuracy: 0.8756 - val_loss: 0.5676 - val_accuracy: 0.8087\n",
            "Epoch 18/40\n",
            "56/56 [==============================] - 2s 33ms/step - loss: 0.3511 - accuracy: 0.8822 - val_loss: 0.5648 - val_accuracy: 0.8112\n",
            "Epoch 19/40\n",
            "56/56 [==============================] - 2s 37ms/step - loss: 0.3307 - accuracy: 0.8872 - val_loss: 0.5883 - val_accuracy: 0.8049\n",
            "Epoch 20/40\n",
            "56/56 [==============================] - 3s 44ms/step - loss: 0.3161 - accuracy: 0.8941 - val_loss: 0.5795 - val_accuracy: 0.8087\n",
            "Epoch 21/40\n",
            "56/56 [==============================] - 2s 42ms/step - loss: 0.3068 - accuracy: 0.8964 - val_loss: 0.6003 - val_accuracy: 0.8068\n",
            "Epoch 22/40\n",
            "56/56 [==============================] - 2s 29ms/step - loss: 0.2925 - accuracy: 0.9014 - val_loss: 0.5907 - val_accuracy: 0.8030\n",
            "Epoch 23/40\n",
            "56/56 [==============================] - 2s 38ms/step - loss: 0.2850 - accuracy: 0.9042 - val_loss: 0.5976 - val_accuracy: 0.8106\n",
            "Epoch 24/40\n",
            "56/56 [==============================] - 2s 40ms/step - loss: 0.2737 - accuracy: 0.9083 - val_loss: 0.6099 - val_accuracy: 0.8049\n",
            "Epoch 25/40\n",
            "56/56 [==============================] - 2s 27ms/step - loss: 0.2660 - accuracy: 0.9124 - val_loss: 0.6132 - val_accuracy: 0.8068\n",
            "Epoch 26/40\n",
            "56/56 [==============================] - 2s 31ms/step - loss: 0.2548 - accuracy: 0.9136 - val_loss: 0.6150 - val_accuracy: 0.8112\n",
            "Epoch 27/40\n",
            "56/56 [==============================] - 2s 31ms/step - loss: 0.2484 - accuracy: 0.9183 - val_loss: 0.6291 - val_accuracy: 0.8099\n",
            "Epoch 28/40\n",
            "56/56 [==============================] - 2s 40ms/step - loss: 0.2432 - accuracy: 0.9186 - val_loss: 0.6345 - val_accuracy: 0.8125\n",
            "Epoch 29/40\n",
            "56/56 [==============================] - 2s 39ms/step - loss: 0.2333 - accuracy: 0.9208 - val_loss: 0.6495 - val_accuracy: 0.8093\n",
            "Epoch 30/40\n",
            "56/56 [==============================] - 2s 30ms/step - loss: 0.2277 - accuracy: 0.9232 - val_loss: 0.6760 - val_accuracy: 0.8093\n",
            "Epoch 31/40\n",
            "56/56 [==============================] - 1s 25ms/step - loss: 0.2260 - accuracy: 0.9207 - val_loss: 0.6501 - val_accuracy: 0.8118\n",
            "Epoch 32/40\n",
            "56/56 [==============================] - 2s 35ms/step - loss: 0.2197 - accuracy: 0.9252 - val_loss: 0.6707 - val_accuracy: 0.8068\n",
            "Epoch 33/40\n",
            "56/56 [==============================] - 2s 31ms/step - loss: 0.2163 - accuracy: 0.9264 - val_loss: 0.6673 - val_accuracy: 0.8087\n",
            "Epoch 34/40\n",
            "56/56 [==============================] - 2s 30ms/step - loss: 0.2061 - accuracy: 0.9311 - val_loss: 0.6761 - val_accuracy: 0.7980\n",
            "Epoch 35/40\n",
            "56/56 [==============================] - 2s 33ms/step - loss: 0.2032 - accuracy: 0.9301 - val_loss: 0.6743 - val_accuracy: 0.8112\n",
            "Epoch 36/40\n",
            "56/56 [==============================] - 1s 27ms/step - loss: 0.1979 - accuracy: 0.9334 - val_loss: 0.6654 - val_accuracy: 0.8143\n",
            "Epoch 37/40\n",
            "56/56 [==============================] - 2s 40ms/step - loss: 0.1957 - accuracy: 0.9348 - val_loss: 0.6786 - val_accuracy: 0.8049\n",
            "Epoch 38/40\n",
            "56/56 [==============================] - 2s 31ms/step - loss: 0.1919 - accuracy: 0.9364 - val_loss: 0.6902 - val_accuracy: 0.8181\n",
            "Epoch 39/40\n",
            "56/56 [==============================] - 1s 26ms/step - loss: 0.1817 - accuracy: 0.9399 - val_loss: 0.6933 - val_accuracy: 0.8037\n",
            "Epoch 40/40\n",
            "56/56 [==============================] - 2s 25ms/step - loss: 0.1817 - accuracy: 0.9420 - val_loss: 0.7114 - val_accuracy: 0.8125\n"
          ]
        },
        {
          "data": {
            "text/plain": [
              "<keras.src.callbacks.History at 0x7fa2d19d0e80>"
            ]
          },
          "execution_count": 30,
          "metadata": {},
          "output_type": "execute_result"
        }
      ],
      "source": [
        "adam = Adam(learning_rate=1e-4, beta_1=0.9, beta_2=0.999, epsilon=1e-08)\n",
        "model.compile(optimizer=adam, loss='categorical_crossentropy', metrics=['accuracy'])\n",
        "\n",
        "model.fit(train_X, train_y_spam,\n",
        "          batch_size=batch_size,\n",
        "          epochs=epochs,\n",
        "          verbose=1,\n",
        "          validation_data=(dev_X, dev_y_spam))"
      ]
    },
    {
      "cell_type": "code",
      "execution_count": null,
      "metadata": {
        "colab": {
          "base_uri": "https://localhost:8080/"
        },
        "id": "aRt7rSHZa5NY",
        "outputId": "c649ee16-d328-4a57-aae0-e06589ec2dbd"
      },
      "outputs": [
        {
          "name": "stderr",
          "output_type": "stream",
          "text": [
            "/usr/local/lib/python3.10/dist-packages/keras/src/engine/training.py:3079: UserWarning: You are saving your model as an HDF5 file via `model.save()`. This file format is considered legacy. We recommend using instead the native Keras format, e.g. `model.save('my_model.keras')`.\n",
            "  saving_api.save_model(\n"
          ]
        }
      ],
      "source": [
        "BILSTM_MODEL = os.path.join(MODEL_DIR, 'BiLSTM_task2.h5')\n",
        "model.save(BILSTM_MODEL, save_format='h5')"
      ]
    },
    {
      "cell_type": "code",
      "execution_count": null,
      "metadata": {
        "colab": {
          "base_uri": "https://localhost:8080/",
          "height": 482
        },
        "id": "r_n6xvcTa7Ax",
        "outputId": "273092e5-c79a-4fb5-dd2e-5da2c170d018"
      },
      "outputs": [
        {
          "name": "stdout",
          "output_type": "stream",
          "text": [
            "F1 - micro: 0.809823677581864\n",
            "F1 - macro: 0.6095034518499783\n",
            "Accuracy: 0.809823677581864\n"
          ]
        },
        {
          "data": {
            "image/png": "[encoded data removed]",
            "text/plain": [
              "<Figure size 640x480 with 2 Axes>"
            ]
          },
          "metadata": {},
          "output_type": "display_data"
        }
      ],
      "source": [
        "show_predict_result(model, test_X, test_y_spam, labels_task_2)"
      ]
    },
    {
      "cell_type": "markdown",
      "metadata": {},
      "source": [
        "GRU"
      ]
    },
    {
      "cell_type": "code",
      "execution_count": null,
      "metadata": {
        "colab": {
          "base_uri": "https://localhost:8080/"
        },
        "id": "Xr49SK-qa8hM",
        "outputId": "8bef6b2e-e81c-47f8-d078-4b4075504859"
      },
      "outputs": [
        {
          "name": "stdout",
          "output_type": "stream",
          "text": [
            "Model: \"model_4\"\n",
            "__________________________________________________________________________________________________\n",
            " Layer (type)                Output Shape                 Param #   Connected to                  \n",
            "==================================================================================================\n",
            " input_5 (InputLayer)        [(None, 100)]                0         []                            \n",
            "                                                                                                  \n",
            " embedding_4 (Embedding)     (None, 100, 300)             6033000   ['input_5[0][0]']             \n",
            "                                                                                                  \n",
            " spatial_dropout1d_2 (Spati  (None, 100, 300)             0         ['embedding_4[0][0]']         \n",
            " alDropout1D)                                                                                     \n",
            "                                                                                                  \n",
            " bidirectional_2 (Bidirecti  (None, 100, 160)             183360    ['spatial_dropout1d_2[0][0]'] \n",
            " onal)                                                                                            \n",
            "                                                                                                  \n",
            " global_average_pooling1d_2  (None, 160)                  0         ['bidirectional_2[0][0]']     \n",
            "  (GlobalAveragePooling1D)                                                                        \n",
            "                                                                                                  \n",
            " global_max_pooling1d_2 (Gl  (None, 160)                  0         ['bidirectional_2[0][0]']     \n",
            " obalMaxPooling1D)                                                                                \n",
            "                                                                                                  \n",
            " concatenate_4 (Concatenate  (None, 320)                  0         ['global_average_pooling1d_2[0\n",
            " )                                                                  ][0]',                        \n",
            "                                                                     'global_max_pooling1d_2[0][0]\n",
            "                                                                    ']                            \n",
            "                                                                                                  \n",
            " dense_4 (Dense)             (None, 2)                    642       ['concatenate_4[0][0]']       \n",
            "                                                                                                  \n",
            "==================================================================================================\n",
            "Total params: 6217002 (23.72 MB)\n",
            "Trainable params: 6217002 (23.72 MB)\n",
            "Non-trainable params: 0 (0.00 Byte)\n",
            "__________________________________________________________________________________________________\n"
          ]
        }
      ],
      "source": [
        "input = Input(shape=(sequence_length,))\n",
        "x = Embedding(num_words, embedding_dim, weights=[embedding_matrix])(input)\n",
        "x = SpatialDropout1D(0.2)(x)\n",
        "x = Bidirectional(GRU(80, return_sequences=True))(x)\n",
        "avg_pool = GlobalAveragePooling1D()(x)\n",
        "max_pool = GlobalMaxPooling1D()(x)\n",
        "conc = concatenate([avg_pool, max_pool])\n",
        "output = Dense(2, activation=\"softmax\")(conc)\n",
        "\n",
        "model = Model(inputs=input, outputs=output)\n",
        "model.summary()"
      ]
    },
    {
      "cell_type": "code",
      "execution_count": null,
      "metadata": {
        "colab": {
          "base_uri": "https://localhost:8080/"
        },
        "id": "Njf33xdKa-b1",
        "outputId": "fd7100b2-04bf-4a90-899c-2ca1fa1f2a6f"
      },
      "outputs": [
        {
          "name": "stdout",
          "output_type": "stream",
          "text": [
            "Epoch 1/40\n",
            "56/56 [==============================] - 14s 166ms/step - loss: 0.6236 - accuracy: 0.7381 - val_loss: 0.5811 - val_accuracy: 0.7281\n",
            "Epoch 2/40\n",
            "56/56 [==============================] - 6s 99ms/step - loss: 0.5468 - accuracy: 0.7400 - val_loss: 0.5415 - val_accuracy: 0.7281\n",
            "Epoch 3/40\n",
            "56/56 [==============================] - 7s 126ms/step - loss: 0.5175 - accuracy: 0.7403 - val_loss: 0.5190 - val_accuracy: 0.7288\n",
            "Epoch 4/40\n",
            "56/56 [==============================] - 5s 83ms/step - loss: 0.4917 - accuracy: 0.7449 - val_loss: 0.4914 - val_accuracy: 0.7709\n",
            "Epoch 5/40\n",
            "56/56 [==============================] - 3s 59ms/step - loss: 0.4662 - accuracy: 0.7968 - val_loss: 0.4692 - val_accuracy: 0.7986\n",
            "Epoch 6/40\n",
            "56/56 [==============================] - 3s 58ms/step - loss: 0.4407 - accuracy: 0.8165 - val_loss: 0.4551 - val_accuracy: 0.8093\n",
            "Epoch 7/40\n",
            "56/56 [==============================] - 5s 84ms/step - loss: 0.4171 - accuracy: 0.8325 - val_loss: 0.4403 - val_accuracy: 0.8131\n",
            "Epoch 8/40\n",
            "56/56 [==============================] - 3s 56ms/step - loss: 0.3920 - accuracy: 0.8438 - val_loss: 0.4279 - val_accuracy: 0.8225\n",
            "Epoch 9/40\n",
            "56/56 [==============================] - 2s 45ms/step - loss: 0.3627 - accuracy: 0.8585 - val_loss: 0.4173 - val_accuracy: 0.8269\n",
            "Epoch 10/40\n",
            "56/56 [==============================] - 2s 40ms/step - loss: 0.3292 - accuracy: 0.8690 - val_loss: 0.4066 - val_accuracy: 0.8320\n",
            "Epoch 11/40\n",
            "56/56 [==============================] - 4s 63ms/step - loss: 0.2990 - accuracy: 0.8802 - val_loss: 0.4421 - val_accuracy: 0.8320\n",
            "Epoch 12/40\n",
            "56/56 [==============================] - 3s 51ms/step - loss: 0.2793 - accuracy: 0.8918 - val_loss: 0.4103 - val_accuracy: 0.8326\n",
            "Epoch 13/40\n",
            "56/56 [==============================] - 2s 39ms/step - loss: 0.2615 - accuracy: 0.8989 - val_loss: 0.4119 - val_accuracy: 0.8376\n",
            "Epoch 14/40\n",
            "56/56 [==============================] - 2s 40ms/step - loss: 0.2470 - accuracy: 0.9054 - val_loss: 0.4102 - val_accuracy: 0.8339\n",
            "Epoch 15/40\n",
            "56/56 [==============================] - 2s 38ms/step - loss: 0.2345 - accuracy: 0.9114 - val_loss: 0.4165 - val_accuracy: 0.8313\n",
            "Epoch 16/40\n",
            "56/56 [==============================] - 2s 39ms/step - loss: 0.2209 - accuracy: 0.9173 - val_loss: 0.4527 - val_accuracy: 0.8351\n",
            "Epoch 17/40\n",
            "56/56 [==============================] - 3s 46ms/step - loss: 0.2087 - accuracy: 0.9234 - val_loss: 0.4318 - val_accuracy: 0.8313\n",
            "Epoch 18/40\n",
            "56/56 [==============================] - 3s 50ms/step - loss: 0.2009 - accuracy: 0.9269 - val_loss: 0.4917 - val_accuracy: 0.8282\n",
            "Epoch 19/40\n",
            "56/56 [==============================] - 2s 36ms/step - loss: 0.1907 - accuracy: 0.9298 - val_loss: 0.4675 - val_accuracy: 0.8307\n",
            "Epoch 20/40\n",
            "56/56 [==============================] - 2s 38ms/step - loss: 0.1801 - accuracy: 0.9338 - val_loss: 0.4957 - val_accuracy: 0.8232\n",
            "Epoch 21/40\n",
            "56/56 [==============================] - 2s 36ms/step - loss: 0.1698 - accuracy: 0.9403 - val_loss: 0.4755 - val_accuracy: 0.8263\n",
            "Epoch 22/40\n",
            "56/56 [==============================] - 2s 32ms/step - loss: 0.1688 - accuracy: 0.9385 - val_loss: 0.4961 - val_accuracy: 0.8269\n",
            "Epoch 23/40\n",
            "56/56 [==============================] - 2s 40ms/step - loss: 0.1593 - accuracy: 0.9439 - val_loss: 0.5227 - val_accuracy: 0.8206\n",
            "Epoch 24/40\n",
            "56/56 [==============================] - 2s 41ms/step - loss: 0.1522 - accuracy: 0.9460 - val_loss: 0.5288 - val_accuracy: 0.8188\n",
            "Epoch 25/40\n",
            "56/56 [==============================] - 2s 44ms/step - loss: 0.1489 - accuracy: 0.9477 - val_loss: 0.5261 - val_accuracy: 0.8200\n",
            "Epoch 26/40\n",
            "56/56 [==============================] - 2s 36ms/step - loss: 0.1482 - accuracy: 0.9461 - val_loss: 0.5435 - val_accuracy: 0.8150\n",
            "Epoch 27/40\n",
            "56/56 [==============================] - 2s 33ms/step - loss: 0.1372 - accuracy: 0.9520 - val_loss: 0.5666 - val_accuracy: 0.8131\n",
            "Epoch 28/40\n",
            "56/56 [==============================] - 2s 33ms/step - loss: 0.1365 - accuracy: 0.9516 - val_loss: 0.6143 - val_accuracy: 0.8137\n",
            "Epoch 29/40\n",
            "56/56 [==============================] - 2s 34ms/step - loss: 0.1341 - accuracy: 0.9524 - val_loss: 0.5793 - val_accuracy: 0.8081\n",
            "Epoch 30/40\n",
            "56/56 [==============================] - 2s 28ms/step - loss: 0.1302 - accuracy: 0.9530 - val_loss: 0.5541 - val_accuracy: 0.8125\n",
            "Epoch 31/40\n",
            "56/56 [==============================] - 2s 32ms/step - loss: 0.1284 - accuracy: 0.9553 - val_loss: 0.5833 - val_accuracy: 0.8112\n",
            "Epoch 32/40\n",
            "56/56 [==============================] - 2s 34ms/step - loss: 0.1245 - accuracy: 0.9573 - val_loss: 0.5594 - val_accuracy: 0.8143\n",
            "Epoch 33/40\n",
            "56/56 [==============================] - 2s 40ms/step - loss: 0.1230 - accuracy: 0.9570 - val_loss: 0.6280 - val_accuracy: 0.8112\n",
            "Epoch 34/40\n",
            "56/56 [==============================] - 2s 32ms/step - loss: 0.1207 - accuracy: 0.9576 - val_loss: 0.6197 - val_accuracy: 0.8081\n",
            "Epoch 35/40\n",
            "56/56 [==============================] - 2s 32ms/step - loss: 0.1191 - accuracy: 0.9571 - val_loss: 0.6200 - val_accuracy: 0.8081\n",
            "Epoch 36/40\n",
            "56/56 [==============================] - 2s 37ms/step - loss: 0.1157 - accuracy: 0.9600 - val_loss: 0.6310 - val_accuracy: 0.8106\n",
            "Epoch 37/40\n",
            "56/56 [==============================] - 2s 27ms/step - loss: 0.1112 - accuracy: 0.9599 - val_loss: 0.5782 - val_accuracy: 0.8137\n",
            "Epoch 38/40\n",
            "56/56 [==============================] - 2s 31ms/step - loss: 0.1092 - accuracy: 0.9633 - val_loss: 0.6282 - val_accuracy: 0.8125\n",
            "Epoch 39/40\n",
            "56/56 [==============================] - 2s 34ms/step - loss: 0.1085 - accuracy: 0.9611 - val_loss: 0.6085 - val_accuracy: 0.8125\n",
            "Epoch 40/40\n",
            "56/56 [==============================] - 2s 35ms/step - loss: 0.1065 - accuracy: 0.9631 - val_loss: 0.5862 - val_accuracy: 0.8099\n"
          ]
        },
        {
          "data": {
            "text/plain": [
              "<keras.src.callbacks.History at 0x7fa2d0fef4f0>"
            ]
          },
          "execution_count": 34,
          "metadata": {},
          "output_type": "execute_result"
        }
      ],
      "source": [
        "adam = Adam(learning_rate=1e-4, beta_1=0.9, beta_2=0.999, epsilon=1e-08)\n",
        "model.compile(optimizer=adam, loss='binary_crossentropy', metrics=['accuracy'])\n",
        "\n",
        "model.fit(train_X, train_y,\n",
        "          batch_size=batch_size,\n",
        "          epochs=epochs,\n",
        "          verbose=1,\n",
        "          validation_data=(dev_X, dev_y))"
      ]
    },
    {
      "cell_type": "code",
      "execution_count": null,
      "metadata": {
        "colab": {
          "base_uri": "https://localhost:8080/"
        },
        "id": "qEbYy6i2bAHe",
        "outputId": "cd6ddc99-9b9b-44e9-8bb6-a64eb678c286"
      },
      "outputs": [
        {
          "name": "stderr",
          "output_type": "stream",
          "text": [
            "/usr/local/lib/python3.10/dist-packages/keras/src/engine/training.py:3079: UserWarning: You are saving your model as an HDF5 file via `model.save()`. This file format is considered legacy. We recommend using instead the native Keras format, e.g. `model.save('my_model.keras')`.\n",
            "  saving_api.save_model(\n"
          ]
        }
      ],
      "source": [
        "GRU_MODEL = os.path.join(MODEL_DIR, 'GRU_task1.h5')\n",
        "model.save(GRU_MODEL, save_format='h5')"
      ]
    },
    {
      "cell_type": "code",
      "execution_count": null,
      "metadata": {
        "colab": {
          "base_uri": "https://localhost:8080/",
          "height": 482
        },
        "id": "kgub6AEgbBsw",
        "outputId": "6cfba97e-fba3-409b-b299-ea173b44b6a2"
      },
      "outputs": [
        {
          "name": "stdout",
          "output_type": "stream",
          "text": [
            "F1 - micro: 0.8183879093198992\n",
            "F1 - macro: 0.7568677056468118\n",
            "Accuracy: 0.8183879093198992\n"
          ]
        },
        {
          "data": {
            "image/png": "[encoded data removed]",
            "text/plain": [
              "<Figure size 640x480 with 2 Axes>"
            ]
          },
          "metadata": {},
          "output_type": "display_data"
        }
      ],
      "source": [
        "show_predict_result(model, test_X, test_y, labels_task_1)"
      ]
    },
    {
      "cell_type": "code",
      "execution_count": null,
      "metadata": {
        "colab": {
          "base_uri": "https://localhost:8080/"
        },
        "id": "Gi3u6Cr_bC9l",
        "outputId": "31db01d3-9249-42c0-f8b5-1a4c39c5f5f8"
      },
      "outputs": [
        {
          "name": "stdout",
          "output_type": "stream",
          "text": [
            "Model: \"model_5\"\n",
            "__________________________________________________________________________________________________\n",
            " Layer (type)                Output Shape                 Param #   Connected to                  \n",
            "==================================================================================================\n",
            " input_6 (InputLayer)        [(None, 100)]                0         []                            \n",
            "                                                                                                  \n",
            " embedding_5 (Embedding)     (None, 100, 300)             6033000   ['input_6[0][0]']             \n",
            "                                                                                                  \n",
            " spatial_dropout1d_3 (Spati  (None, 100, 300)             0         ['embedding_5[0][0]']         \n",
            " alDropout1D)                                                                                     \n",
            "                                                                                                  \n",
            " bidirectional_3 (Bidirecti  (None, 100, 160)             183360    ['spatial_dropout1d_3[0][0]'] \n",
            " onal)                                                                                            \n",
            "                                                                                                  \n",
            " global_average_pooling1d_3  (None, 160)                  0         ['bidirectional_3[0][0]']     \n",
            "  (GlobalAveragePooling1D)                                                                        \n",
            "                                                                                                  \n",
            " global_max_pooling1d_3 (Gl  (None, 160)                  0         ['bidirectional_3[0][0]']     \n",
            " obalMaxPooling1D)                                                                                \n",
            "                                                                                                  \n",
            " concatenate_5 (Concatenate  (None, 320)                  0         ['global_average_pooling1d_3[0\n",
            " )                                                                  ][0]',                        \n",
            "                                                                     'global_max_pooling1d_3[0][0]\n",
            "                                                                    ']                            \n",
            "                                                                                                  \n",
            " dense_5 (Dense)             (None, 4)                    1284      ['concatenate_5[0][0]']       \n",
            "                                                                                                  \n",
            "==================================================================================================\n",
            "Total params: 6217644 (23.72 MB)\n",
            "Trainable params: 6217644 (23.72 MB)\n",
            "Non-trainable params: 0 (0.00 Byte)\n",
            "__________________________________________________________________________________________________\n"
          ]
        }
      ],
      "source": [
        "input = Input(shape=(sequence_length,))\n",
        "x = Embedding(num_words, embedding_dim, weights=[embedding_matrix])(input)\n",
        "x = SpatialDropout1D(0.2)(x)\n",
        "x = Bidirectional(GRU(80, return_sequences=True))(x)\n",
        "avg_pool = GlobalAveragePooling1D()(x)\n",
        "max_pool = GlobalMaxPooling1D()(x)\n",
        "conc = concatenate([avg_pool, max_pool])\n",
        "output = Dense(4, activation=\"softmax\")(conc)\n",
        "\n",
        "model = Model(inputs=input, outputs=output)\n",
        "model.summary()"
      ]
    },
    {
      "cell_type": "code",
      "execution_count": null,
      "metadata": {
        "colab": {
          "base_uri": "https://localhost:8080/"
        },
        "id": "G10hI4S7bE4f",
        "outputId": "7d43ca56-5a1c-4bb4-a994-f7f983c6400b"
      },
      "outputs": [
        {
          "name": "stdout",
          "output_type": "stream",
          "text": [
            "Epoch 1/40\n",
            "56/56 [==============================] - 13s 156ms/step - loss: 1.1658 - accuracy: 0.6407 - val_loss: 0.9825 - val_accuracy: 0.7281\n",
            "Epoch 2/40\n",
            "56/56 [==============================] - 6s 108ms/step - loss: 0.8424 - accuracy: 0.7400 - val_loss: 0.7771 - val_accuracy: 0.7281\n",
            "Epoch 3/40\n",
            "56/56 [==============================] - 7s 119ms/step - loss: 0.7259 - accuracy: 0.7402 - val_loss: 0.7337 - val_accuracy: 0.7281\n",
            "Epoch 4/40\n",
            "56/56 [==============================] - 5s 91ms/step - loss: 0.6912 - accuracy: 0.7410 - val_loss: 0.7060 - val_accuracy: 0.7319\n",
            "Epoch 5/40\n",
            "56/56 [==============================] - 4s 74ms/step - loss: 0.6616 - accuracy: 0.7473 - val_loss: 0.6800 - val_accuracy: 0.7413\n",
            "Epoch 6/40\n",
            "56/56 [==============================] - 4s 66ms/step - loss: 0.6335 - accuracy: 0.7704 - val_loss: 0.6553 - val_accuracy: 0.7816\n",
            "Epoch 7/40\n",
            "56/56 [==============================] - 5s 82ms/step - loss: 0.6051 - accuracy: 0.8081 - val_loss: 0.6335 - val_accuracy: 0.7904\n",
            "Epoch 8/40\n",
            "56/56 [==============================] - 3s 56ms/step - loss: 0.5781 - accuracy: 0.8169 - val_loss: 0.6161 - val_accuracy: 0.7948\n",
            "Epoch 9/40\n",
            "56/56 [==============================] - 3s 59ms/step - loss: 0.5531 - accuracy: 0.8231 - val_loss: 0.6018 - val_accuracy: 0.8005\n",
            "Epoch 10/40\n",
            "56/56 [==============================] - 2s 34ms/step - loss: 0.5280 - accuracy: 0.8291 - val_loss: 0.5850 - val_accuracy: 0.8030\n",
            "Epoch 11/40\n",
            "56/56 [==============================] - 4s 69ms/step - loss: 0.5039 - accuracy: 0.8350 - val_loss: 0.5703 - val_accuracy: 0.8043\n",
            "Epoch 12/40\n",
            "56/56 [==============================] - 3s 51ms/step - loss: 0.4776 - accuracy: 0.8389 - val_loss: 0.5614 - val_accuracy: 0.8049\n",
            "Epoch 13/40\n",
            "56/56 [==============================] - 2s 36ms/step - loss: 0.4515 - accuracy: 0.8446 - val_loss: 0.5557 - val_accuracy: 0.8068\n",
            "Epoch 14/40\n",
            "56/56 [==============================] - 2s 41ms/step - loss: 0.4241 - accuracy: 0.8519 - val_loss: 0.5468 - val_accuracy: 0.8093\n",
            "Epoch 15/40\n",
            "56/56 [==============================] - 2s 37ms/step - loss: 0.3978 - accuracy: 0.8639 - val_loss: 0.5373 - val_accuracy: 0.8112\n",
            "Epoch 16/40\n",
            "56/56 [==============================] - 3s 47ms/step - loss: 0.3765 - accuracy: 0.8682 - val_loss: 0.5375 - val_accuracy: 0.8175\n",
            "Epoch 17/40\n",
            "56/56 [==============================] - 3s 46ms/step - loss: 0.3557 - accuracy: 0.8791 - val_loss: 0.6248 - val_accuracy: 0.8106\n",
            "Epoch 18/40\n",
            "56/56 [==============================] - 2s 43ms/step - loss: 0.3440 - accuracy: 0.8848 - val_loss: 0.5406 - val_accuracy: 0.8137\n",
            "Epoch 19/40\n",
            "56/56 [==============================] - 2s 30ms/step - loss: 0.3178 - accuracy: 0.8930 - val_loss: 0.5577 - val_accuracy: 0.8112\n",
            "Epoch 20/40\n",
            "56/56 [==============================] - 2s 28ms/step - loss: 0.3049 - accuracy: 0.8965 - val_loss: 0.5487 - val_accuracy: 0.8143\n",
            "Epoch 21/40\n",
            "56/56 [==============================] - 2s 36ms/step - loss: 0.2918 - accuracy: 0.8998 - val_loss: 0.5464 - val_accuracy: 0.8143\n",
            "Epoch 22/40\n",
            "56/56 [==============================] - 2s 35ms/step - loss: 0.2761 - accuracy: 0.9041 - val_loss: 0.5672 - val_accuracy: 0.8137\n",
            "Epoch 23/40\n",
            "56/56 [==============================] - 2s 37ms/step - loss: 0.2627 - accuracy: 0.9089 - val_loss: 0.5717 - val_accuracy: 0.8099\n",
            "Epoch 24/40\n",
            "56/56 [==============================] - 2s 29ms/step - loss: 0.2511 - accuracy: 0.9155 - val_loss: 0.5737 - val_accuracy: 0.8175\n",
            "Epoch 25/40\n",
            "56/56 [==============================] - 3s 50ms/step - loss: 0.2444 - accuracy: 0.9180 - val_loss: 0.6377 - val_accuracy: 0.8162\n",
            "Epoch 26/40\n",
            "56/56 [==============================] - 2s 34ms/step - loss: 0.2341 - accuracy: 0.9214 - val_loss: 0.6164 - val_accuracy: 0.8131\n",
            "Epoch 27/40\n",
            "56/56 [==============================] - 2s 31ms/step - loss: 0.2226 - accuracy: 0.9253 - val_loss: 0.5840 - val_accuracy: 0.8106\n",
            "Epoch 28/40\n",
            "56/56 [==============================] - 2s 37ms/step - loss: 0.2148 - accuracy: 0.9276 - val_loss: 0.6248 - val_accuracy: 0.8112\n",
            "Epoch 29/40\n",
            "56/56 [==============================] - 2s 32ms/step - loss: 0.2047 - accuracy: 0.9334 - val_loss: 0.6302 - val_accuracy: 0.8131\n",
            "Epoch 30/40\n",
            "56/56 [==============================] - 2s 34ms/step - loss: 0.2016 - accuracy: 0.9325 - val_loss: 0.6023 - val_accuracy: 0.8131\n",
            "Epoch 31/40\n",
            "56/56 [==============================] - 2s 36ms/step - loss: 0.1918 - accuracy: 0.9374 - val_loss: 0.6304 - val_accuracy: 0.8137\n",
            "Epoch 32/40\n",
            "56/56 [==============================] - 2s 36ms/step - loss: 0.1834 - accuracy: 0.9393 - val_loss: 0.6241 - val_accuracy: 0.8125\n",
            "Epoch 33/40\n",
            "56/56 [==============================] - 2s 38ms/step - loss: 0.1816 - accuracy: 0.9411 - val_loss: 0.6333 - val_accuracy: 0.8118\n",
            "Epoch 34/40\n",
            "56/56 [==============================] - 2s 30ms/step - loss: 0.1749 - accuracy: 0.9427 - val_loss: 0.6439 - val_accuracy: 0.8143\n",
            "Epoch 35/40\n",
            "56/56 [==============================] - 2s 31ms/step - loss: 0.1677 - accuracy: 0.9452 - val_loss: 0.6525 - val_accuracy: 0.8169\n",
            "Epoch 36/40\n",
            "56/56 [==============================] - 2s 30ms/step - loss: 0.1636 - accuracy: 0.9469 - val_loss: 0.6622 - val_accuracy: 0.8131\n",
            "Epoch 37/40\n",
            "56/56 [==============================] - 2s 33ms/step - loss: 0.1577 - accuracy: 0.9484 - val_loss: 0.6889 - val_accuracy: 0.8093\n",
            "Epoch 38/40\n",
            "56/56 [==============================] - 2s 31ms/step - loss: 0.1517 - accuracy: 0.9505 - val_loss: 0.7232 - val_accuracy: 0.8106\n",
            "Epoch 39/40\n",
            "56/56 [==============================] - 2s 36ms/step - loss: 0.1467 - accuracy: 0.9528 - val_loss: 0.7035 - val_accuracy: 0.8081\n",
            "Epoch 40/40\n",
            "56/56 [==============================] - 2s 36ms/step - loss: 0.1423 - accuracy: 0.9537 - val_loss: 0.7105 - val_accuracy: 0.8043\n"
          ]
        },
        {
          "data": {
            "text/plain": [
              "<keras.src.callbacks.History at 0x7fa2c7514d30>"
            ]
          },
          "execution_count": 38,
          "metadata": {},
          "output_type": "execute_result"
        }
      ],
      "source": [
        "adam = Adam(learning_rate=1e-4, beta_1=0.9, beta_2=0.999, epsilon=1e-08)\n",
        "model.compile(optimizer=adam, loss='categorical_crossentropy', metrics=['accuracy'])\n",
        "\n",
        "model.fit(train_X, train_y_spam,\n",
        "          batch_size=batch_size,\n",
        "          epochs=epochs,\n",
        "          verbose=1,\n",
        "          validation_data=(dev_X, dev_y_spam))"
      ]
    },
    {
      "cell_type": "code",
      "execution_count": null,
      "metadata": {
        "colab": {
          "base_uri": "https://localhost:8080/"
        },
        "id": "32hpYlCObGjm",
        "outputId": "3cb901d3-50aa-4d28-88c8-157fc95dc5e3"
      },
      "outputs": [
        {
          "name": "stderr",
          "output_type": "stream",
          "text": [
            "/usr/local/lib/python3.10/dist-packages/keras/src/engine/training.py:3079: UserWarning: You are saving your model as an HDF5 file via `model.save()`. This file format is considered legacy. We recommend using instead the native Keras format, e.g. `model.save('my_model.keras')`.\n",
            "  saving_api.save_model(\n"
          ]
        }
      ],
      "source": [
        "GRU_MODEL = os.path.join(MODEL_DIR, 'GRU_task2.h5')\n",
        "model.save(GRU_MODEL, save_format='h5')"
      ]
    },
    {
      "cell_type": "code",
      "execution_count": null,
      "metadata": {
        "colab": {
          "base_uri": "https://localhost:8080/",
          "height": 482
        },
        "id": "3WS1HDFFbIeF",
        "outputId": "c047fa7c-bd21-4c85-f725-d9a68fa5372e"
      },
      "outputs": [
        {
          "name": "stdout",
          "output_type": "stream",
          "text": [
            "F1 - micro: 0.8120906801007556\n",
            "F1 - macro: 0.6429101101426782\n",
            "Accuracy: 0.8120906801007557\n"
          ]
        },
        {
          "data": {
            "image/png": "[encoded data removed]",
            "text/plain": [
              "<Figure size 640x480 with 2 Axes>"
            ]
          },
          "metadata": {},
          "output_type": "display_data"
        }
      ],
      "source": [
        "show_predict_result(model, test_X, test_y_spam, labels_task_2)"
      ]
    }
  ],
  "metadata": {
    "accelerator": "GPU",
    "colab": {
      "gpuType": "T4",
      "provenance": []
    },
    "kernelspec": {
      "display_name": "Python 3",
      "name": "python3"
    },
    "language_info": {
      "name": "python"
    }
  },
  "nbformat": 4,
  "nbformat_minor": 0
}
